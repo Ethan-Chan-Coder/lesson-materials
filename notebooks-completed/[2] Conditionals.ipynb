{
 "cells": [
  {
   "cell_type": "markdown",
   "id": "a27954de-37a1-4da3-9fae-e6a2d034c432",
   "metadata": {},
   "source": [
    "# Conditionals\n",
    "\n",
    "1. If statements\n",
    "2. Comparison operators\n",
    "3. Discount calculator\n",
    "4. Hawker centre plan\n",
    "5. Improved BMI calculator\n",
    "6. Homework: Animal classifier\n",
    "\n",
    "An if statement is a programming construct that allows you to control the flow of your code based on certain boundaries.\\\n",
    "It evaluates whether a given condition is true or false and executes a block of code only if the condition is true. "
   ]
  },
  {
   "cell_type": "markdown",
   "id": "019c9579-e71e-4447-9d84-650b02ddb39c",
   "metadata": {},
   "source": [
    "## If statements\n",
    "There are two portions to it: a condition and an action\n",
    "\n",
    "Note that after the if statement, the \"action\" code is indented. "
   ]
  },
  {
   "cell_type": "code",
   "execution_count": null,
   "id": "a19392a2-33a8-49e8-b7e0-369ac89556ba",
   "metadata": {},
   "outputs": [],
   "source": [
    "if 3 > 2: # condition\n",
    "    print(\"3 is more than 2\") # action"
   ]
  },
  {
   "cell_type": "markdown",
   "id": "c0c0390a-a501-40e0-aa40-08e6c934432e",
   "metadata": {},
   "source": [
    "## Comparison operators\n",
    "\n",
    "\n",
    "<table>\n",
    "  <tr>\n",
    "    <th>Math</th>\n",
    "    <th>Description</th>\n",
    "    <th>Python</th>\n",
    "  </tr>\n",
    "  <tr>\n",
    "    <td>a = b</td>\n",
    "    <td>a is equal to b (e.g. 1 = 1)</td>\n",
    "    <td>==</td>\n",
    "  </tr>\n",
    "  <tr>\n",
    "    <td>a > b</td>\n",
    "    <td>a is greater than b (e.g. 2 > 1)</td>\n",
    "    <td>&gt;</td>\n",
    "  </tr>\n",
    "  <tr>\n",
    "    <td>a < b</td>\n",
    "    <td>a is smaller than b (e.g. 1 < 10)</td>\n",
    "    <td>&lt;</td>\n",
    "  </tr>\n",
    "  <tr>\n",
    "    <td>a ≤ b</td>\n",
    "    <td>a is greater than or equal to b (e.g. 20 ≥ 5, 3 ≥ 3)</td>\n",
    "    <td>&gt;=</td>\n",
    "  </tr>\n",
    "  <tr>\n",
    "    <td>a ≤ b</td>\n",
    "    <td>a is smaller than or equal to b (e.g. 10 ≤ 100, 1 ≤ 1)</td>\n",
    "    <td>&lt;=</td>\n",
    "  </tr>\n",
    "  <tr>\n",
    "    <td>a ≠ b</td>\n",
    "    <td>a is not equal to b (e.g. 10 ≠ 100, 2 ≠ 1)</td>\n",
    "    <td>!=</td>\n",
    "  </tr>\n",
    "</table>"
   ]
  },
  {
   "cell_type": "markdown",
   "id": "37e8043f-2639-47ed-bf60-cf77b321e792",
   "metadata": {},
   "source": [
    "## Discount calculator\n",
    "\n",
    "At Buona Vista Hawker Center, there exists a hawker center. The stall owner decided to create a program that calculates the price of the food to be paid by the customer. Since it is close to a school, it decided to **discount** those who are students. \n",
    "\n",
    "\n",
    "\n",
    "Here is a sample code that utilises if-statements, try changing the variable `age` to see how the program behaves differently."
   ]
  },
  {
   "cell_type": "code",
   "execution_count": null,
   "id": "9b9c6bd6-fa52-4d43-858d-7247d7f58b77",
   "metadata": {},
   "outputs": [],
   "source": [
    "age = 16 # Change me! Notice how 18 and above doesn't print anything\n",
    "if age <= 18:\n",
    "\tprint(\"Discounted Price\")"
   ]
  },
  {
   "cell_type": "markdown",
   "id": "f84afe39-82c4-4c86-88a5-f81f3e2b2f39",
   "metadata": {},
   "source": [
    "What if we want the user to input the number? What do we need to do?\n",
    "<details>\n",
    "    <summary>Hint</summary>\n",
    "    Refer back to Chapter 2: IO Variables and Arithmetics\n",
    "</details>"
   ]
  },
  {
   "cell_type": "code",
   "execution_count": null,
   "id": "5f9f8a86-430a-44e0-acc7-7807bbc3bd5d",
   "metadata": {},
   "outputs": [],
   "source": [
    "age = 16 # Change me so that users can input their own age!\n",
    "if age <= 18:\n",
    "\tprint(\"Discounted Price\")"
   ]
  },
  {
   "cell_type": "markdown",
   "id": "ae4da238-a272-48a5-a22c-4e43677589d2",
   "metadata": {},
   "source": [
    "Note that the \"action\" of the if statement has to be indented or else it does not work."
   ]
  },
  {
   "cell_type": "code",
   "execution_count": null,
   "id": "24bf0d03-c2aa-4858-a04c-e5389d19c217",
   "metadata": {},
   "outputs": [],
   "source": [
    "age = int(input(\"What is your age: \"))\n",
    "if age <= 18:\n",
    "print(\"Discounted Price\") # Why do I not work?"
   ]
  },
  {
   "cell_type": "markdown",
   "id": "44af07fc-dd4d-46d2-a9c5-df9cc6b08e5f",
   "metadata": {},
   "source": [
    "What if I want to print \"Regular Price\" For someone whose age is above 18? "
   ]
  },
  {
   "cell_type": "code",
   "execution_count": null,
   "id": "5149d27b-e081-4cc5-9f2e-251e1e13f520",
   "metadata": {},
   "outputs": [],
   "source": [
    "age = int(input(\"What is your age: \"))\n",
    "if age <= 18:\n",
    "\tprint(\"Discounted Price\")\n",
    "# Try typing your else block here!\n",
    "else:\n",
    "\tprint(\"Regular Price\")"
   ]
  },
  {
   "cell_type": "markdown",
   "id": "84efdf4b-81d7-45c2-ab49-728ad895160a",
   "metadata": {},
   "source": [
    "Singapore’s population is aging fast, there will be 1/5 of the population who are aged 65 and above in 2023. The stall owner decided to **subsidise food for those who are 65** and above. \n",
    "\n",
    "What if I want to have a separate category for the elderly?\n",
    "\n",
    "<details>\n",
    "    <summary>Hint</summary>\n",
    "    The \"no\" branch of the first if else statement represents everyone other than the children; how do we further differentiate it?\n",
    "</details>"
   ]
  },
  {
   "cell_type": "markdown",
   "id": "79a09f5c-a42c-4ea1-8d09-392bf4ab4dea",
   "metadata": {},
   "source": [
    "What if I want to check for two conditions? We can use and/or statements."
   ]
  },
  {
   "cell_type": "code",
   "execution_count": null,
   "id": "0d55ecd7-ee9a-435b-beb3-c23184e5f50b",
   "metadata": {},
   "outputs": [],
   "source": [
    "age = int(input(\"What is your age: \"))\n",
    "is_student = input(\"Are you a student: \")\n",
    "if age <= 18 and is_student == \"yes\":\n",
    "\tprint(\"Discounted Price (Student)\")\n",
    "elif age <= 18 and is_student == \"no\":\n",
    "\tprint(\"Discounted Price (Children)\")\n",
    "elif age  >= 65:\n",
    "\tprint(\"Discounted Price (Elderlies)\")\n",
    "else:\n",
    "\tprint(\"Regular Price\")"
   ]
  },
  {
   "cell_type": "markdown",
   "id": "3b5cc110",
   "metadata": {},
   "source": [
    "#### Scenario: Checking Age and Height for a Ride (`and`)\n",
    "\n",
    "Let's first understand what does `and` does. We will do this by using the example below:\n",
    "\n",
    "- The program below checks if a person can go on a ride based on their age and height."
   ]
  },
  {
   "cell_type": "code",
   "execution_count": null,
   "id": "352c16cd",
   "metadata": {},
   "outputs": [],
   "source": [
    "age = int(input(\"What is your age?\"))\n",
    "height = int(input(\"What is your height?\"))  # in cm\n",
    "\n",
    "if age >= 12:\n",
    "    if height >= 140:\n",
    "        print(\"Can go on the ride\")\n",
    "    else:\n",
    "        print(\"Cannot go on the ride\")\n",
    "else:\n",
    "    print(\"Cannot go on the ride\")\n",
    "\n",
    "\n",
    "# Type your if statement here to simplify the if statement above!\n",
    "# Instructor to type this out together with participants\n",
    "\n",
    "if age >= 12 and height >= 140:\n",
    "    print(\"Can go on the ride\")\n",
    "else:\n",
    "    print(\"Cannot go on the ride\")"
   ]
  },
  {
   "cell_type": "markdown",
   "id": "e041add6",
   "metadata": {},
   "source": [
    "Notice how the person can only go on the ride when the following two conditions are both satisfied:\n",
    "\n",
    "1. The rider's age is 12 and above\n",
    "2. The rider's height is 140 and above\n",
    "\n",
    "Thus, we can say that the rider can only go on the ride when **point 1 AND point 2 are fulfilled**"
   ]
  },
  {
   "cell_type": "markdown",
   "id": "dfa49edd",
   "metadata": {},
   "source": [
    "##### Scenario: Free Shipping on Online Orders (`or`)\n",
    "\n",
    "Now that we have understood `and`, let's understand `or` by using another example!\n",
    "\n",
    "The program below checks if an order qualifies for free shipping based on either the total order amount or the customer's membership status."
   ]
  },
  {
   "cell_type": "code",
   "execution_count": null,
   "id": "27b6d6a6",
   "metadata": {},
   "outputs": [],
   "source": [
    "total_order_amount = int(input(\"How much did your order cost? \"))  # in dollars\n",
    "membership_status = input(\"What membership tier do you have? (basic/premium/elite)\")\n",
    "\n",
    "if total_order_amount >= 50:\n",
    "    print(\"Eligible for free shipping\")\n",
    "elif membership_status == \"premium\":\n",
    "    print(\"Eligible for free shipping\")\n",
    "else:\n",
    "    print(\"Not eligible for free shipping\")\n",
    "\n",
    "\n",
    "# Type your new if statement here to simplify the if statement above!\n",
    "# Instructor to type this out together with participants\n",
    "\n",
    "if total_order_amount >= 50 or membership_status == \"premium\":\n",
    "    print(\"Eligible for free shipping\")\n",
    "else:\n",
    "    print(\"Not eligible for free shipping\")"
   ]
  },
  {
   "cell_type": "markdown",
   "id": "d221e387",
   "metadata": {},
   "source": [
    "Notice how the person is eligible for free shipping when any of the following two conditions are satisfied:\n",
    "\n",
    "1. Order amount is 50 dollars and above\n",
    "2. The customer has a premium subscription\n",
    "\n",
    "Thus, we can say that the person can only go on the ride when **point 1 OR point 2 are fulfilled**\n",
    "\n",
    "Note: even when both are fulfilled the person still gets free shipping"
   ]
  },
  {
   "cell_type": "markdown",
   "id": "5a48493e",
   "metadata": {},
   "source": [
    "##### Scenario: Validate test scores (`not`)\n",
    "\n",
    "Now, let's understand `not` by using another example!\n",
    "\n",
    "We have already seen examples of `not`, here are a few examples:\n",
    "1. `if a != 10:` can be expressed as `if not a == 10:`\n",
    "2. `if a <= 10:` can be expressed as `if not a > 10:`\n",
    "\n",
    "The program below checks if a test score inputted by the user is between 0 and 100, inclusive."
   ]
  },
  {
   "cell_type": "code",
   "execution_count": null,
   "id": "771d5e97",
   "metadata": {},
   "outputs": [],
   "source": [
    "test_score = int(input(\"Input your score that you want to validate:\"))\n",
    "\n",
    "if test_score <= 0 or test_score > 100:\n",
    "    print(\"This test score is invalid! Try again!\")\n",
    "else:\n",
    "    print(\"This test score is valid.\")\n",
    "\n",
    "\n",
    "# Type your new if statement here using the \"not\" keyword to make it easier to read!\n",
    "# Instructor to type this out together with participants\n",
    "\n",
    "test_score = int(input(\"Input your score that you want to validate:\"))\n",
    "if not (0 <= test_score and test_score <= 100): # Literally checks if its NOT in the range of 0 to 100\n",
    "    print(\"This test score is invalid! Try again!\")\n",
    "else:\n",
    "    print(\"This test score is valid.\")"
   ]
  },
  {
   "cell_type": "markdown",
   "id": "74106b14-dd87-48ab-a49d-5b7681707e1b",
   "metadata": {},
   "source": [
    "Do note that anything outside the if-statement is always executed."
   ]
  },
  {
   "cell_type": "code",
   "execution_count": null,
   "id": "9dacd783-7083-4fd7-8b52-575b051a69b9",
   "metadata": {},
   "outputs": [],
   "source": [
    "# Discounts #######################\n",
    "# Students 18 and below : 30% off #\n",
    "# Children 18 and below : 10% off #\n",
    "# Elderlies 65 and above: 30% off #\n",
    "###################################\n",
    "\n",
    "age = int(input(\"What is your age: \"))\n",
    "is_student = \"yes\"\n",
    "price = 60\n",
    "if age <= 18 and is_student == \"yes\":\n",
    "\tdiscount = 0.3\n",
    "elif age <= 18 and is_student == \"no\":\n",
    "\tdiscount = 0.1\n",
    "elif age  >= 65:\n",
    "\tdiscount = 0.3\n",
    "else:\n",
    "\tdiscount = 0\n",
    "\t\n",
    "final_price = price * (1 - discount) # I am always executed! "
   ]
  },
  {
   "cell_type": "markdown",
   "id": "eef13ffd-69f1-4361-8771-3214528c7110",
   "metadata": {},
   "source": [
    "## Hawker centre plan\n",
    "Do you remember your flowchart for your Hawker Centre Plan? Can you code it out?"
   ]
  },
  {
   "cell_type": "code",
   "execution_count": null,
   "id": "37aaa3d6",
   "metadata": {},
   "outputs": [],
   "source": [
    "# Write your code here!\n",
    "hungry = input(\"Am I hungry? \")\n",
    "money = input(\"Do I have money? \")\n",
    "hot = input(\"Is it a hot day? \")\n",
    "\n",
    "\n",
    "print(\"Go to hawker centre\")\n",
    "if hungry == \"No\":\n",
    "    print(\"Go home\")\n",
    "else:\n",
    "    if money == \"No\":\n",
    "        print(\"Cry\")\n",
    "    else:\n",
    "        if hot == \"No\":\n",
    "            print(\"Buy Laksa\")\n",
    "        else:\n",
    "            print(\"Buy ice cream and waffles\")"
   ]
  },
  {
   "cell_type": "markdown",
   "id": "f30cc082-5820-4063-a0a7-0184e9d0159a",
   "metadata": {},
   "source": [
    "## BMI calculator\n",
    "Create a BMI calculator that:\n",
    "1. Asks the user for their height(cm) and weight(kg)\n",
    "2. Calculates their BMI\n",
    "3. Output the weight category they are in\n",
    "\n",
    "$BMI=\\frac{weight(kg)}{height(m)^2}$"
   ]
  },
  {
   "cell_type": "code",
   "execution_count": null,
   "id": "8324c23a-cb22-43f1-aa83-377c24aababb",
   "metadata": {},
   "outputs": [],
   "source": [
    "# Write your code here!\n",
    "weight = float(input(\"What is your weight(kg): \"))\n",
    "height = float(input(\"What is your height(m): \"))\n",
    "bmi = weight / (height * height)\n",
    "if bmi < 18.5:\n",
    "    print(\"Underweight\")\n",
    "elif bmi >= 18.5 and bmi <= 24.9:\n",
    "    print(\"Healthy Weight\")\n",
    "elif bmi >= 25.0 and bmi <= 29.9:\n",
    "    print(\"Overweight\")\n",
    "elif bmi > 30.0:\n",
    "    print(\"Obese\")\n"
   ]
  },
  {
   "cell_type": "markdown",
   "id": "6af23e1b-6545-493c-bf37-ee1852201c64",
   "metadata": {},
   "source": [
    "## Leap Year Calculator\n",
    "A leap year is a year that contains an extra day in order to keep the calendar year synchronized with the astronomical year.\\\n",
    "**Leap Year:** A year that has 366 days instead of the usual 365 days.\\\n",
    "**Purpose:** To align the calendar year with the Earth's orbit around the Sun, which takes approximately 365.25 days.\n",
    "\n",
    "**Leap Years**: 2024, 2000, 1600\\\n",
    "**Non-Leap Years**: 2023, 1900, 1800\n",
    "\n",
    "Write a program which asks the user for a year, and output whether the year provided is a leap year or not. \\\n",
    "You are to find out how to calculate leap years by yourself, without help from other people. Using Google __is allowed__. 😃"
   ]
  },
  {
   "cell_type": "code",
   "execution_count": null,
   "id": "933aff88-4afe-46bb-b6ed-ffcb3eb1084e",
   "metadata": {},
   "outputs": [],
   "source": [
    "# Write your code here!\n",
    "# Get the year from the user\n",
    "year = int(input(\"Enter a year: \"))\n",
    "\n",
    "# Determine if it is a leap year\n",
    "if year%4 == 0:\n",
    "    if year%100 != 0:\n",
    "        result = \"a leap year\"\n",
    "    else:\n",
    "        if year % 400 == 0:\n",
    "            result = \"a leap year\"\n",
    "        else:\n",
    "            result = \"not a leap year\"\n",
    "else:\n",
    "    result = \"not a leap year\"\n",
    "\n",
    "# Print the result\n",
    "print(f\"{year} is {result}.\")"
   ]
  },
  {
   "cell_type": "markdown",
   "id": "429591dd-0b9d-4fc8-91a0-2c6b404b70aa",
   "metadata": {},
   "source": [
    "## Extra Excercises: Animal classifier\n",
    "Write a program that asks the user a series of questions to classify the animal the user is thinking about into one of these 6 categories\n",
    "\n",
    "**Mammals, Insects, Birds, Amphibians, Reptiles, Fishes**\n",
    "\n",
    "Questions:\n",
    "1. How many legs does it have?\n",
    "2. Does it have scales?\n",
    "3. Does it give birth to young live?\n",
    "4.   Does it have gills?\n",
    "5.   Does it have a beak?\n",
    "6.   Is it amphibious?"
   ]
  },
  {
   "cell_type": "code",
   "execution_count": null,
   "id": "44f2cbcf-c1ab-4119-87f7-054fe7ee0eed",
   "metadata": {},
   "outputs": [],
   "source": [
    "# Write your code here!\n",
    "print(\"Answer the following questions with 'yes' or 'no'.\")\n",
    "\n",
    "# Question 1\n",
    "legs = int(input(\"How many legs does it have? \"))\n",
    "\n",
    "# Question 2\n",
    "has_scales = input(\"Does it have scales? \")\n",
    "\n",
    "# Question 3\n",
    "gives_birth_to_young_live = input(\"Does it give birth to young live? \")\n",
    "\n",
    "# Question 4\n",
    "has_gills = input(\"Does it have gills? \")\n",
    "\n",
    "# Question 5\n",
    "has_beak = input(\"Does it have a beak? \")\n",
    "\n",
    "# Question 6\n",
    "is_amphibious = input(\"Is it amphibious? \")\n",
    "\n",
    "# Classification logic\n",
    "if legs == 0 and has_gills == \"yes\":\n",
    "    classification = \"Fish\"\n",
    "elif legs == 2 and has_beak == \"yes\":\n",
    "    classification = \"Bird\"\n",
    "elif legs == 4 and is_amphibious == \"yes\":\n",
    "    classification = \"Amphibian\"\n",
    "elif legs == 6 or legs == 8:\n",
    "    classification = \"Insect\"\n",
    "elif legs == 4 and has_scales == \"yes\":\n",
    "    classification = \"Reptile\"\n",
    "elif legs == 4 and gives_birth_to_young_live == \"yes\":\n",
    "    classification = \"Mammal\"\n",
    "else:\n",
    "    classification = \"Unknown\"\n",
    "\n",
    "print(f\"The animal you are thinking of is classified as: {classification}\")"
   ]
  },
  {
   "cell_type": "markdown",
   "id": "7c0cfa0c-2a8f-40f6-991f-10b8625cde52",
   "metadata": {},
   "source": [
    "\\\n",
    "\\\n",
    "Download the next lesson notebook (*While loops*) **[here](https://github.com/artofcode-sg/lesson-materials/blob/main/notebooks/%5B3%5D%20While%20loops.ipynb)**!"
   ]
  }
 ],
 "metadata": {
  "kernelspec": {
   "display_name": "Python 3 (ipykernel)",
   "language": "python",
   "name": "python3"
  },
  "language_info": {
   "codemirror_mode": {
    "name": "ipython",
    "version": 3
   },
   "file_extension": ".py",
   "mimetype": "text/x-python",
   "name": "python",
   "nbconvert_exporter": "python",
   "pygments_lexer": "ipython3",
   "version": "3.12.3"
  }
 },
 "nbformat": 4,
 "nbformat_minor": 5
}
