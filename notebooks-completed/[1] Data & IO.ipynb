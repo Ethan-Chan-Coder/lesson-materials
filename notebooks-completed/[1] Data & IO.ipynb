{
 "cells": [
  {
   "cell_type": "markdown",
   "id": "90d8477f-aa75-495a-86e4-5a5141ce1259",
   "metadata": {},
   "source": [
    "# IO and data\n",
    "\n",
    "**Table of contents**\n",
    "1. Hello world\n",
    "2. Mad libs\n",
    "3. Arithmetic operators\n",
    "4. BMI calculator\n",
    "5. Coin change calculator"
   ]
  },
  {
   "cell_type": "markdown",
   "id": "f96f9d7b-9e7f-45d5-9d8f-b96fdc088063",
   "metadata": {},
   "source": [
    "## 1. Hello world\n",
    "\n",
    "Change the text in quotes below and press the ▶️ button above (or hit `ctrl`+`enter` / `cmd`+`enter`) to run the code."
   ]
  },
  {
   "cell_type": "code",
   "execution_count": null,
   "id": "b9252b41-101a-4f8c-a1d1-50a1c7dd227b",
   "metadata": {},
   "outputs": [],
   "source": [
    "print(\"Hi everyone!\")"
   ]
  },
  {
   "cell_type": "markdown",
   "id": "ce6c72b4-758d-4095-a350-d8de6ef60688",
   "metadata": {},
   "source": [
    "Here's a program that greets the user."
   ]
  },
  {
   "cell_type": "code",
   "execution_count": 1,
   "id": "1005617d-bc03-48a8-a427-b3a509a00dd1",
   "metadata": {},
   "outputs": [
    {
     "name": "stdout",
     "output_type": "stream",
     "text": [
      "Hello, Terence!\n"
     ]
    }
   ],
   "source": [
    "name = \"Tom\"  # CHANGE THE TEXT to your own name\n",
    "print(f\"Whats up, {name}!\")  # CHANGE THE TEXT to another greeting"
   ]
  },
  {
   "cell_type": "markdown",
   "id": "17e23863-12dd-4682-a344-3d2d4d675e69",
   "metadata": {},
   "source": [
    "## Mad libs\n",
    "\n",
    "| Term      | Explanation                          | Examples                                   |\n",
    "|-----------|--------------------------------------|--------------------------------------------|\n",
    "| Adjective | Describes a quality or attribute     | Happy, Brave, Beautiful                    |\n",
    "| Adverb    | Describes how an action is performed | Gracefully, Swiftly, Carefully             |\n",
    "| Noun      | Person, place, thing, or idea        | Cat, Book, Friendship                      |\n",
    "| Place     | Location or area                     | Garden, Beach, Mountains                   |\n",
    "| Verb      | Action or state of being             | Dance, Sing, Explore                       |\n",
    "\n",
    "Write your mad libs program below."
   ]
  },
  {
   "cell_type": "code",
   "execution_count": null,
   "id": "83ab4ce0",
   "metadata": {},
   "outputs": [],
   "source": [
    "# Prompt the user to enter a noun, verb, an adjective, and adverb, and a place\n",
    "print(\"Welcome to Mad Libs!\")\n",
    "noun = input(\"Enter a noun: \")\n",
    "verb = input(\"Enter a verb: \")\n",
    "adjective = input(\"Enter an adjective: \")\n",
    "adverb = input(\"Enter an adverb: \")\n",
    "place = input(\"Enter a place: \")\n",
    "\n",
    "# Turn this into an f-string involving all the above inputs that you have defined!\n",
    "story = f\"Once upon a time, in a {place} far, far away, there was a {adjective} {noun} who loved to {verb} {adverb}.\"\n",
    "\n",
    "# Display the Mad Libs story\n",
    "print(\"\\nYour Mad Libs Story:\")\n",
    "print(story)\n"
   ]
  },
  {
   "cell_type": "markdown",
   "id": "3b27e255",
   "metadata": {},
   "source": [
    "## Arithmetic operators\n",
    "\n",
    "| Math         | Python  |\n",
    "| ------------ | ------- |\n",
    "| $a + b$      | `a + b` |\n",
    "| $a - b$      | `a - b` |\n",
    "| $a \\times b$ | `a * b` |\n",
    "| $a \\div b$   | `a / b` |"
   ]
  },
  {
   "cell_type": "markdown",
   "id": "052a49a1-6aa5-4cde-967c-3eeba072478a",
   "metadata": {},
   "source": [
    "## BMI calculator\n",
    "Below is some code which calculates BMI of the user. However, it has an error. Can you guess why is that so? \n",
    "\n",
    "After finding out the answer, you can change the code in the cell below."
   ]
  },
  {
   "cell_type": "code",
   "execution_count": null,
   "id": "6e332b9c-ef9e-47a2-8221-44c15e0c791d",
   "metadata": {},
   "outputs": [],
   "source": [
    "weight = float(input(\"Enter your weight: \"))\n",
    "height = float(input(\"Enter your height: \"))\n",
    "\n",
    "bmi = weight / (height * height) # Calculating BMI\n",
    "\n",
    "print(f\"Your BMI is: {bmi}\")"
   ]
  },
  {
   "cell_type": "code",
   "execution_count": null,
   "id": "d3971301-0754-4e7b-8571-cf1daca80c64",
   "metadata": {},
   "outputs": [],
   "source": [
    "# Example program that demonstrates arithmetic operations in python\n",
    "# Run this program!! Changing the inputs are highly encouraged!! Try to output 90 with just 5, 6 and 3!!\n",
    "a = 1\n",
    "b = 3\n",
    "print(1 + b)\n",
    "print(a - b)\n",
    "print(a * 4)\n",
    "print(1 / 4)\n",
    "print((a + b) * 6 / 89)"
   ]
  },
  {
   "cell_type": "markdown",
   "id": "a3b57079-20b9-488b-b950-30bc36ad9f72",
   "metadata": {},
   "source": [
    "## Coin change\n",
    "\n",
    "Write your coin change program below!"
   ]
  },
  {
   "cell_type": "code",
   "execution_count": null,
   "id": "07c8146c-d945-4ce7-9e2b-9297b3f201b9",
   "metadata": {},
   "outputs": [],
   "source": [
    "# Input\n",
    "change = int(input(\"Please input the change in cents: \"))\n",
    "\n",
    "# Calulating number of one dollar coins\n",
    "cents_100 = change//100\n",
    "change = change-cents_100*100\n",
    "\n",
    "# Calulating number of fifty cent coins\n",
    "cents_50 = change//50\n",
    "change = change-cents_50*50\n",
    "\n",
    "# Calulating number of twenty cent coins\n",
    "cents_20 = change//20\n",
    "change = change-cents_20*20\n",
    "\n",
    "# Calulating number of 10 cent coins\n",
    "cents_10 = change//10\n",
    "change = change-cents_10*10\n",
    "\n",
    "# Calulating number of 5 cent coins\n",
    "cents_5 = change//5\n",
    "change = change-cents_5*5\n",
    "\n",
    "# Outputting\n",
    "print(f\"One dollars: {cents_100}\")\n",
    "print(f\"Fifty cents: {cents_50}\")\n",
    "print(f\"Twenty cents: {cents_20}\")\n",
    "print(f\"Ten cents: {cents_10}\")\n",
    "print(f\"Five cents: {cents_5}\")"
   ]
  },
  {
   "cell_type": "markdown",
   "id": "057a9981-c4cb-4297-891e-344b4ec4b786",
   "metadata": {},
   "source": [
    "\\\n",
    "\\\n",
    "Download the next lesson notebook (*Conditionals*) **[here](https://github.com/artofcode-sg/lesson-materials/blob/main/notebooks/%5B2%5D%20Conditionals.ipynb)**!"
   ]
  }
 ],
 "metadata": {
  "kernelspec": {
   "display_name": "Python 3 (ipykernel)",
   "language": "python",
   "name": "python3"
  },
  "language_info": {
   "codemirror_mode": {
    "name": "ipython",
    "version": 3
   },
   "file_extension": ".py",
   "mimetype": "text/x-python",
   "name": "python",
   "nbconvert_exporter": "python",
   "pygments_lexer": "ipython3",
   "version": "3.12.3"
  }
 },
 "nbformat": 4,
 "nbformat_minor": 5
}
