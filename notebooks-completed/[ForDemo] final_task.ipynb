{
 "cells": [
  {
   "cell_type": "code",
   "execution_count": 1,
   "metadata": {},
   "outputs": [
    {
     "name": "stdin",
     "output_type": "stream",
     "text": [
      "Guess 1/6 (or 'hint'): house\n"
     ]
    },
    {
     "name": "stdout",
     "output_type": "stream",
     "text": [
      "⬛⬛🟨⬛🟨\n"
     ]
    },
    {
     "name": "stdin",
     "output_type": "stream",
     "text": [
      "Guess 2/6 (or 'hint'): hint\n"
     ]
    },
    {
     "name": "stdout",
     "output_type": "stream",
     "text": [
      "b⬛⬛⬛⬛\n"
     ]
    },
    {
     "name": "stdin",
     "output_type": "stream",
     "text": [
      "Guess 4/6 (or 'hint'): hint\n"
     ]
    },
    {
     "name": "stdout",
     "output_type": "stream",
     "text": [
      "⬛⬛y⬛⬛\n"
     ]
    },
    {
     "name": "stdin",
     "output_type": "stream",
     "text": [
      "Guess 6/6 (or 'hint'): house\n"
     ]
    },
    {
     "name": "stdout",
     "output_type": "stream",
     "text": [
      "⬛⬛🟨⬛🟨\n",
      "You lose! The word is buyer\n"
     ]
    },
    {
     "name": "stdin",
     "output_type": "stream",
     "text": [
      "Do you want to share your result [y/n]: y\n"
     ]
    },
    {
     "name": "stdout",
     "output_type": "stream",
     "text": [
      "Wordle Result 2/6 (2 hints used)\n",
      "⬛⬛🟨⬛🟨\n",
      "⬛⬛🟨⬛🟨\n"
     ]
    }
   ],
   "source": [
    "from src.artOfCode import *\n",
    "\n",
    "word = generate_word()\n",
    "# Type your code out here: \n",
    "attempt = 1\n",
    "guess = \"\"\n",
    "result = []\n",
    "all_guess = []\n",
    "hint_used = 0\n",
    "\n",
    "while word != guess and (attempt + hint_used *2) <= 6:\n",
    "    guess = input(f\"Guess {attempt + hint_used *2}/6 (or 'hint'):\")\n",
    "    if guess == \"hint\":\n",
    "        if attempt + hint_used * 2 >= 5:\n",
    "            print(\"You cannot use anymore hints\")\n",
    "        else:\n",
    "            print(hint(all_guess, word))\n",
    "            hint_used += 1\n",
    "    elif len(guess) != 5:\n",
    "        print(\"Incorrect Length\")\n",
    "    elif is_english_word(guess) == False:\n",
    "        print(\"Not An English Word\")\n",
    "    else:\n",
    "        output = \"\"\n",
    "        all_guess.append(guess)\n",
    "        for i in range(5):\n",
    "            if word[i] == guess[i]:\n",
    "                output += \"🟩\"\n",
    "            elif guess[i] in word:\n",
    "                output += \"🟨\"\n",
    "            else:\n",
    "                output += \"⬛\"\n",
    "        print(output)\n",
    "        result.append(output)\n",
    "        attempt += 1\n",
    "\n",
    "if guess==word:\n",
    "    print(f\"You Win! You took {attempt+hint_used*2-1} attempts\")\n",
    "else:\n",
    "    print(f\"You lose! The word is {word}\")\n",
    "    \n",
    "user_input = input(\"Do you want to share your result [y/n]:\")\n",
    "if user_input == \"y\":\n",
    "    print(f\"Wordle Result {attempt-1}/6 ({hint_used} hints used)\")\n",
    "    for i in result:\n",
    "        print(i)"
   ]
  },
  {
   "cell_type": "code",
   "execution_count": null,
   "metadata": {},
   "outputs": [],
   "source": []
  }
 ],
 "metadata": {
  "kernelspec": {
   "display_name": "Python 3 (ipykernel)",
   "language": "python",
   "name": "python3"
  },
  "language_info": {
   "codemirror_mode": {
    "name": "ipython",
    "version": 3
   },
   "file_extension": ".py",
   "mimetype": "text/x-python",
   "name": "python",
   "nbconvert_exporter": "python",
   "pygments_lexer": "ipython3",
   "version": "3.12.3"
  }
 },
 "nbformat": 4,
 "nbformat_minor": 4
}
