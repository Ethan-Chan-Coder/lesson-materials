{
 "cells": [
  {
   "cell_type": "markdown",
   "id": "485b3ed7-7260-418e-ab0f-436b55da4604",
   "metadata": {},
   "source": [
    "### What is an algorithm?\n",
    "An algorithm can have inputs and outputs, and even a single instruction is an algorithm. Every flowchart and python code that we show later can be considered a flowchart."
   ]
  },
  {
   "cell_type": "markdown",
   "id": "bff44c2b-7f80-4854-a3c1-91c5ae1a9271",
   "metadata": {},
   "source": [
    "The code block right below this text **contains code that displays \"Hello, World!\" to the console**.\n",
    "\n",
    "You can run all code in this file by clicking on the play button at the horizontal bar on top"
   ]
  },
  {
   "cell_type": "code",
   "execution_count": 1,
   "id": "b9252b41-101a-4f8c-a1d1-50a1c7dd227b",
   "metadata": {},
   "outputs": [
    {
     "name": "stdout",
     "output_type": "stream",
     "text": [
      "Hello, World!\n"
     ]
    }
   ],
   "source": [
    "print(\"Hello, World!\")"
   ]
  },
  {
   "cell_type": "markdown",
   "id": "ce6c72b4-758d-4095-a350-d8de6ef60688",
   "metadata": {},
   "source": [
    "Now, lets greet the user (you)!\n",
    "\n",
    "There is already code below that greets John Doe. Can you change the code below to a different greeting and a different name so that it is greeting you instead?"
   ]
  },
  {
   "cell_type": "code",
   "execution_count": null,
   "id": "fc177b91-6385-4714-a320-5ee7f2aa9a9f",
   "metadata": {},
   "outputs": [],
   "source": [
    "name = \"John Doe\" # setting the name variable to \"John Doe\"\n",
    "print(f\"Hello, {name}!\") # Outputs \"Hello, John Doe!\""
   ]
  }
 ],
 "metadata": {
  "kernelspec": {
   "display_name": "Python 3 (ipykernel)",
   "language": "python",
   "name": "python3"
  },
  "language_info": {
   "codemirror_mode": {
    "name": "ipython",
    "version": 3
   },
   "file_extension": ".py",
   "mimetype": "text/x-python",
   "name": "python",
   "nbconvert_exporter": "python",
   "pygments_lexer": "ipython3",
   "version": "3.12.3"
  }
 },
 "nbformat": 4,
 "nbformat_minor": 5
}
