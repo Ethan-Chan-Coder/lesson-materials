{
 "cells": [
  {
   "cell_type": "markdown",
   "id": "533ea9a4-ed47-40ed-8213-b5c4d401d2b4",
   "metadata": {},
   "source": [
    "# While loops\n",
    "\n",
    "**Table of contents**\n",
    "1. While loop example\n",
    "2. Login system\n",
    "3. Guess-the-number game"
   ]
  },
  {
   "cell_type": "markdown",
   "id": "feb46d2e-b494-466d-a0fc-968cef7a0221",
   "metadata": {},
   "source": [
    "## 1. While loop example\n",
    "\n",
    "A `while` loop repeatedly runs a block of code until a specified condition is false.\n",
    "\n",
    "Here's an example of a while loop you can run / edit. It repeatedly runs as long as `current_year < 2024`, so it'll stop re-running after `current_year` becomes 2024."
   ]
  },
  {
   "cell_type": "code",
   "execution_count": null,
   "id": "d3c859f2-aba1-4320-b42f-c878e6b21915",
   "metadata": {},
   "outputs": [],
   "source": [
    "current_year = 2017  # Our story starts in the past...\n",
    "tammy_birthyear = 2016  # This is the year when Tammy the turtle was born\n",
    "\n",
    "print(f\"[The year is {current_year}] This is my turtle Tammy 🐢, and she's 1 year old!\")\n",
    "\n",
    "# Here's the while loop!\n",
    "while current_year < 2024:\n",
    "    # Simulate one year passing\n",
    "    current_year = current_year + 1\n",
    "    print(f\"[The year is now {current_year}] Tammy 🐢 is now {current_year - tammy_birthyear} years old\")\n",
    "\n",
    "# This runs after the while loop ends\n",
    "print(\"Tammy is a big turtle now 🐢🎉\")"
   ]
  },
  {
   "cell_type": "markdown",
   "id": "29953845-0ab8-4201-84f2-6e3f62c188ee",
   "metadata": {},
   "source": [
    "## 2. Login system\n",
    "\n",
    "Complete this simple login system. It should ask the user to enter the password, and ask again if the password that the user entered was wrong. But stop asking for passwords after 5 failed attempts, or else any malicious user could guess the password by trying every possible combination..."
   ]
  },
  {
   "cell_type": "code",
   "execution_count": null,
   "id": "b9252b41-101a-4f8c-a1d1-50a1c7dd227b",
   "metadata": {},
   "outputs": [],
   "source": [
    "# Here's the correct password - check that the\n",
    "# user's password attempt is the same as this!\n",
    "correct_password = \"supersecurepassword123\"\n",
    "\n",
    "# Replace me with your login code!"
   ]
  },
  {
   "cell_type": "markdown",
   "id": "94ba3d63-3358-4fcf-b3d0-69f98e4a4226",
   "metadata": {},
   "source": [
    "## 3. Guess-the-number game\n",
    "\n",
    "This program will choose a random number, then let the user guess it. The program will tell the user if the guess is too high, too low, or correct. If the answer isn't correct, the program will keep letting the user guess, until the user guesses correctly!"
   ]
  },
  {
   "cell_type": "code",
   "execution_count": null,
   "id": "398cdae8-1f11-4d55-afa7-24c24fb4e361",
   "metadata": {},
   "outputs": [],
   "source": [
    "import random\n",
    "\n",
    "# This sets the \"answer\" variable to a random number between 1 and 100\n",
    "answer = random.randint(1, 100)\n",
    "\n",
    "# Replace me with your guess-the-number code!"
   ]
  },
  {
   "cell_type": "markdown",
   "id": "6f034ada-6170-44cc-9117-473ea12a25cb",
   "metadata": {},
   "source": [
    "\\\n",
    "\\\n",
    "Download the next lesson notebook (*for loops*) **[here](https://github.com/artofcode-sg/lesson-materials/blob/main/notebooks/%5B3%5D%20for%20loops.ipynb)**!"
   ]
  }
 ],
 "metadata": {
  "kernelspec": {
   "display_name": "Python 3 (ipykernel)",
   "language": "python",
   "name": "python3"
  },
  "language_info": {
   "codemirror_mode": {
    "name": "ipython",
    "version": 3
   },
   "file_extension": ".py",
   "mimetype": "text/x-python",
   "name": "python",
   "nbconvert_exporter": "python",
   "pygments_lexer": "ipython3",
   "version": "3.12.3"
  }
 },
 "nbformat": 4,
 "nbformat_minor": 5
}
