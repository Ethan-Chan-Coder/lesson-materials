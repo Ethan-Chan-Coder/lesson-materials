{
 "cells": [
  {
   "cell_type": "markdown",
   "id": "f96f9d7b-9e7f-45d5-9d8f-b96fdc088063",
   "metadata": {},
   "source": [
    "Let's **change the text in quotes below**! You can change it to anything you like - Just run it to see what is the result!"
   ]
  },
  {
   "cell_type": "code",
   "execution_count": 1,
   "id": "b9252b41-101a-4f8c-a1d1-50a1c7dd227b",
   "metadata": {},
   "outputs": [
    {
     "name": "stdout",
     "output_type": "stream",
     "text": [
      "Hello, World!\n"
     ]
    }
   ],
   "source": [
    "print(\"Hello, World!\")"
   ]
  },
  {
   "cell_type": "markdown",
   "id": "47bb576b-847d-49e6-b06e-0cc09006a3d9",
   "metadata": {},
   "source": [
    "#### Introduction to comments\n",
    "\n",
    "Comments are code that **does not do anything within the program** - It is ignored by the computer when the computer runs the code."
   ]
  },
  {
   "cell_type": "code",
   "execution_count": null,
   "id": "1ceb2e8e-f90c-4221-86a2-f977a702e83b",
   "metadata": {},
   "outputs": [],
   "source": [
    "# This is a comment, what might it be for?"
   ]
  },
  {
   "cell_type": "markdown",
   "id": "ce6c72b4-758d-4095-a350-d8de6ef60688",
   "metadata": {},
   "source": [
    "## Greetings\n",
    "Here's a program that greets the user!"
   ]
  },
  {
   "cell_type": "code",
   "execution_count": 1,
   "id": "1005617d-bc03-48a8-a427-b3a509a00dd1",
   "metadata": {},
   "outputs": [
    {
     "name": "stdout",
     "output_type": "stream",
     "text": [
      "Hello, John Doe!\n"
     ]
    }
   ],
   "source": [
    "name = \"John Doe\" # This should be your own name\n",
    "print(f\"Hello, {name}!\") # Set this to a new greeting!"
   ]
  },
  {
   "cell_type": "markdown",
   "id": "17e23863-12dd-4682-a344-3d2d4d675e69",
   "metadata": {},
   "source": [
    "## MAD libs\n",
    "\n",
    "Here are some words in case you forgot the meaning of those words:\n",
    "\n",
    "| Word      | Explanation                          | Examples                                   |\n",
    "|-----------|--------------------------------------|--------------------------------------------|\n",
    "| Adjective | Describes a quality or attribute     | Happy, Brave, Beautiful                    |\n",
    "| Adverb    | Describes how an action is performed | Gracefully, Swiftly, Carefully             |\n",
    "| Noun      | Person, place, thing, or idea        | Cat, Book, Friendship                      |\n",
    "| Place     | Location or area                     | Garden, Beach, Mountains                   |\n",
    "| Verb      | Action or state of being             | Dance, Sing, Explore                       |\n",
    "\n",
    "Write your mad libs program below!\n"
   ]
  },
  {
   "cell_type": "code",
   "execution_count": null,
   "id": "099ca2b8-a806-4e1a-960e-eb6c5ac0e428",
   "metadata": {},
   "outputs": [],
   "source": [
    "# Prompt the user to enter a noun, verb, an adjective, and adverb, and a place below!\n",
    "# Code goes here\n",
    "\n",
    "# Turn this into an f-string involving all the above inputs that you have defined!\n",
    "story = \"Once upon a time, in a PLACE far, far away, there was a ADJECTIVE NOUN who loved to VERB ADVERB.\"\n",
    "\n",
    "# Display the Mad Libs story\n",
    "print(\"\\nYour Mad Libs Story:\")\n",
    "print(story)\n"
   ]
  },
  {
   "cell_type": "code",
   "execution_count": 3,
   "id": "099f7dfd-f72d-4437-89b1-6999c1dc619f",
   "metadata": {},
   "outputs": [
    {
     "name": "stdout",
     "output_type": "stream",
     "text": [
      "Welcome to Mad Libs!\n"
     ]
    },
    {
     "name": "stdin",
     "output_type": "stream",
     "text": [
      "Enter a noun:  apple\n",
      "Enter a verb:  sing\n",
      "Enter an adjective:  ugly\n",
      "Enter an adverb:  stupidly\n",
      "Enter a place:  toilet\n"
     ]
    },
    {
     "name": "stdout",
     "output_type": "stream",
     "text": [
      "\n",
      "Your Mad Libs Story:\n",
      "Once upon a time, in a toilet far, far away, there was a ugly apple who loved to sing stupidly.\n"
     ]
    }
   ],
   "source": [
    "# Model code - Remove from participants notebook\n",
    "\n",
    "# Prompt the user to enter a noun, verb, an adjective, and adverb, and a place\n",
    "print(\"Welcome to Mad Libs!\")\n",
    "noun = input(\"Enter a noun: \")\n",
    "verb = input(\"Enter a verb: \")\n",
    "adjective = input(\"Enter an adjective: \")\n",
    "adverb = input(\"Enter an adverb: \")\n",
    "place = input(\"Enter a place: \")\n",
    "\n",
    "# Turn this into an f-string involving all the above inputs that you have defined!\n",
    "story = f\"Once upon a time, in a {place} far, far away, there was a {adjective} {noun} who loved to {verb} {adverb}.\"\n",
    "\n",
    "# Display the Mad Libs story\n",
    "print(\"\\nYour Mad Libs Story:\")\n",
    "print(story)\n"
   ]
  },
  {
   "cell_type": "markdown",
   "id": "052a49a1-6aa5-4cde-967c-3eeba072478a",
   "metadata": {},
   "source": [
    "## BMI Calculator\n",
    "Below is some code which calculates BMI of the user. However, it has an error. Can you guess why is that so? \n",
    "\n",
    "After finding out the answer, you can change the code in the cell below."
   ]
  },
  {
   "cell_type": "code",
   "execution_count": 2,
   "id": "6e332b9c-ef9e-47a2-8221-44c15e0c791d",
   "metadata": {},
   "outputs": [
    {
     "name": "stdin",
     "output_type": "stream",
     "text": [
      "Enter your weight:  10\n",
      "Enter your height:  0\n"
     ]
    },
    {
     "ename": "ZeroDivisionError",
     "evalue": "division by zero",
     "output_type": "error",
     "traceback": [
      "\u001b[1;31m---------------------------------------------------------------------------\u001b[0m",
      "\u001b[1;31mZeroDivisionError\u001b[0m                         Traceback (most recent call last)",
      "Cell \u001b[1;32mIn[2], line 4\u001b[0m\n\u001b[0;32m      1\u001b[0m weight \u001b[38;5;241m=\u001b[39m \u001b[38;5;28mint\u001b[39m(\u001b[38;5;28minput\u001b[39m(\u001b[38;5;124m\"\u001b[39m\u001b[38;5;124mEnter your weight: \u001b[39m\u001b[38;5;124m\"\u001b[39m)) \n\u001b[0;32m      2\u001b[0m height \u001b[38;5;241m=\u001b[39m \u001b[38;5;28mint\u001b[39m(\u001b[38;5;28minput\u001b[39m(\u001b[38;5;124m\"\u001b[39m\u001b[38;5;124mEnter your height: \u001b[39m\u001b[38;5;124m\"\u001b[39m))\n\u001b[1;32m----> 4\u001b[0m bmi \u001b[38;5;241m=\u001b[39m \u001b[43mweight\u001b[49m\u001b[43m \u001b[49m\u001b[38;5;241;43m/\u001b[39;49m\u001b[43m \u001b[49m\u001b[43m(\u001b[49m\u001b[43mheight\u001b[49m\u001b[43m \u001b[49m\u001b[38;5;241;43m*\u001b[39;49m\u001b[43m \u001b[49m\u001b[43mheight\u001b[49m\u001b[43m)\u001b[49m \u001b[38;5;66;03m# Calculating BMI\u001b[39;00m\n\u001b[0;32m      6\u001b[0m \u001b[38;5;28mprint\u001b[39m(\u001b[38;5;124mf\u001b[39m\u001b[38;5;124m\"\u001b[39m\u001b[38;5;124mYour BMI is: \u001b[39m\u001b[38;5;132;01m{\u001b[39;00mbmi\u001b[38;5;132;01m}\u001b[39;00m\u001b[38;5;124m\"\u001b[39m)\n",
      "\u001b[1;31mZeroDivisionError\u001b[0m: division by zero"
     ]
    }
   ],
   "source": [
    "weight = input(\"Enter your weight: \")\n",
    "height = input(\"Enter your height: \")\n",
    "\n",
    "bmi = weight / (height * height) # Calculating BMI\n",
    "\n",
    "print(f\"Your BMI is: {bmi}\")"
   ]
  },
  {
   "cell_type": "code",
   "execution_count": null,
   "id": "d3971301-0754-4e7b-8571-cf1daca80c64",
   "metadata": {},
   "outputs": [],
   "source": [
    "# Example program that demonstrates arithmetic operations in python - Yall are probably going to say no but i like it >:(\n",
    "# Run this program!! Changing the inputs are highly encouraged!! Try to output 90 with just 5, 6 and 3!!\n",
    "a = 1\n",
    "b = 3\n",
    "print(1 + b)\n",
    "print(a - b)\n",
    "print(a * 4)\n",
    "print(1 / 4)\n",
    "print((a + b) * 6 / 89)"
   ]
  },
  {
   "cell_type": "markdown",
   "id": "a3b57079-20b9-488b-b950-30bc36ad9f72",
   "metadata": {},
   "source": [
    "## Coin change\n",
    "\n",
    "Write your coin change program below!"
   ]
  },
  {
   "cell_type": "code",
   "execution_count": 1,
   "id": "07c8146c-d945-4ce7-9e2b-9297b3f201b9",
   "metadata": {},
   "outputs": [
    {
     "name": "stdout",
     "output_type": "stream",
     "text": [
      "hi\n"
     ]
    }
   ],
   "source": []
  }
 ],
 "metadata": {
  "kernelspec": {
   "display_name": "Python 3 (ipykernel)",
   "language": "python",
   "name": "python3"
  },
  "language_info": {
   "codemirror_mode": {
    "name": "ipython",
    "version": 3
   },
   "file_extension": ".py",
   "mimetype": "text/x-python",
   "name": "python",
   "nbconvert_exporter": "python",
   "pygments_lexer": "ipython3",
   "version": "3.12.3"
  }
 },
 "nbformat": 4,
 "nbformat_minor": 5
}
