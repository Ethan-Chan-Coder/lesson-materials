{
 "cells": [
  {
   "cell_type": "markdown",
   "id": "f96f9d7b-9e7f-45d5-9d8f-b96fdc088063",
   "metadata": {},
   "source": [
    "Let's **change the text in quotes below**! You can change it to anything you like - Just run it to see what is the result!"
   ]
  },
  {
   "cell_type": "code",
   "execution_count": null,
   "id": "b9252b41-101a-4f8c-a1d1-50a1c7dd227b",
   "metadata": {},
   "outputs": [
    {
     "ename": "TypeError",
     "evalue": "unsupported operand type(s) for -: 'str' and 'str'",
     "output_type": "error",
     "traceback": [
      "\u001b[1;31m---------------------------------------------------------------------------\u001b[0m",
      "\u001b[1;31mTypeError\u001b[0m                                 Traceback (most recent call last)",
      "Cell \u001b[1;32mIn[2], line 1\u001b[0m\n\u001b[1;32m----> 1\u001b[0m \u001b[38;5;28mprint\u001b[39m(\u001b[38;5;124;43m\"\u001b[39;49m\u001b[38;5;124;43m1\u001b[39;49m\u001b[38;5;124;43m\"\u001b[39;49m\u001b[38;5;241;43m-\u001b[39;49m\u001b[38;5;124;43m\"\u001b[39;49m\u001b[38;5;124;43m23\u001b[39;49m\u001b[38;5;124;43m\"\u001b[39;49m)\n",
      "\u001b[1;31mTypeError\u001b[0m: unsupported operand type(s) for -: 'str' and 'str'"
     ]
    }
   ],
   "source": [
    "print(\"Hello, World!\")"
   ]
  },
  {
   "cell_type": "markdown",
   "id": "47bb576b-847d-49e6-b06e-0cc09006a3d9",
   "metadata": {},
   "source": [
    "#### Introduction to comments\n",
    "\n",
    "Comments are code that **does not do anything within the program** - It is ignored by the computer when the computer runs the code."
   ]
  },
  {
   "cell_type": "code",
   "execution_count": null,
   "id": "1ceb2e8e-f90c-4221-86a2-f977a702e83b",
   "metadata": {},
   "outputs": [],
   "source": [
    "# This is a comment, what might it be for?"
   ]
  },
  {
   "cell_type": "markdown",
   "id": "ce6c72b4-758d-4095-a350-d8de6ef60688",
   "metadata": {},
   "source": [
    "## Greetings\n",
    "Here's a program that greets the user!"
   ]
  },
  {
   "cell_type": "code",
   "execution_count": null,
   "id": "1005617d-bc03-48a8-a427-b3a509a00dd1",
   "metadata": {},
   "outputs": [],
   "source": [
    "name = \"Terence\"  # Change this to your own name\n",
    "print(f\"Hello, {name}!\")  # Change this to another greeting"
   ]
  },
  {
   "cell_type": "markdown",
   "id": "17e23863-12dd-4682-a344-3d2d4d675e69",
   "metadata": {},
   "source": [
    "## Mad Libs\n",
    "\n",
    "Here are some words in case you forgot the meaning of those words:\n",
    "\n",
    "| Word      | Explanation                          | Examples                                   |\n",
    "|-----------|--------------------------------------|--------------------------------------------|\n",
    "| Adjective | Describes a quality or attribute     | Happy, Brave, Beautiful                    |\n",
    "| Adverb    | Describes how an action is performed | Gracefully, Swiftly, Carefully             |\n",
    "| Noun      | Person, place, thing, or idea        | Cat, Book, Friendship                      |\n",
    "| Place     | Location or area                     | Garden, Beach, Mountains                   |\n",
    "| Verb      | Action or state of being             | Dance, Sing, Explore                       |\n",
    "\n",
    "Write your mad libs program below!\n"
   ]
  },
  {
   "cell_type": "code",
   "execution_count": null,
   "id": "099ca2b8-a806-4e1a-960e-eb6c5ac0e428",
   "metadata": {},
   "outputs": [],
   "source": [
    "# Prompt the user to enter a noun, verb, an adjective, and adverb, and a place below!\n",
    "# Code goes here\n",
    "\n",
    "# Turn this into an f-string involving all the above inputs that you have defined!\n",
    "story = \"Once upon a time, in a PLACE far, far away, there was a ADJECTIVE NOUN who loved to VERB ADVERB.\"\n",
    "\n",
    "# Display the Mad Libs story\n",
    "print(\"\\nYour Mad Libs Story:\")\n",
    "print(story)\n"
   ]
  },
  {
   "cell_type": "markdown",
   "id": "3b27e255",
   "metadata": {},
   "source": [
    "## Arithmetic Operators\n",
    "\n",
    "\n",
    "<table>\n",
    "  <tr>\n",
    "    <th>Math</th>\n",
    "    <th>Example</th>\n",
    "    <th>Python</th>\n",
    "  </tr>\n",
    "  <tr>\n",
    "    <td>a + b</td>\n",
    "    <td>1 + 2 = 3</td>\n",
    "    <td>+</td>\n",
    "  </tr>\n",
    "  <tr>\n",
    "    <td>a - b</td>\n",
    "    <td>2 - 3 = -1</td>\n",
    "    <td>-</td>\n",
    "  </tr>\n",
    "  <tr>\n",
    "    <td>a × b</td>\n",
    "    <td>2 × 3 = 6</td>\n",
    "    <td>*</td>\n",
    "  </tr>\n",
    "  <tr>\n",
    "    <td>a ÷ b</td>\n",
    "    <td>4 ÷ 2 = 2</td>\n",
    "    <td>/</td>\n",
    "  </tr>\n",
    "  <tr>\n",
    "    <td>a ^ b</td>\n",
    "    <td>2^3 = 8</td>\n",
    "    <td>**</td>\n",
    "  </tr>\n",
    "</table>"
   ]
  },
  {
   "cell_type": "markdown",
   "id": "052a49a1-6aa5-4cde-967c-3eeba072478a",
   "metadata": {},
   "source": [
    "## BMI Calculator\n",
    "Below is some code which calculates BMI of the user. However, it has an error. Can you guess why is that so? \n",
    "\n",
    "After finding out the answer, you can change the code in the cell below."
   ]
  },
  {
   "cell_type": "code",
   "execution_count": null,
   "id": "6e332b9c-ef9e-47a2-8221-44c15e0c791d",
   "metadata": {},
   "outputs": [],
   "source": [
    "weight = input(\"Enter your weight: \")\n",
    "height = input(\"Enter your height: \")\n",
    "\n",
    "bmi = weight / (height * height) # Calculating BMI\n",
    "\n",
    "print(f\"Your BMI is: {bmi}\")"
   ]
  },
  {
   "cell_type": "code",
   "execution_count": null,
   "id": "d3971301-0754-4e7b-8571-cf1daca80c64",
   "metadata": {},
   "outputs": [],
   "source": [
    "# Example program that demonstrates arithmetic operations in python - Yall are probably going to say no but i like it >:(\n",
    "# Run this program!! Changing the inputs are highly encouraged!! Try to output 90 with just 5, 6 and 3!!\n",
    "a = 1\n",
    "b = 3\n",
    "print(1 + b)\n",
    "print(a - b)\n",
    "print(a * 4)\n",
    "print(1 / 4)\n",
    "print((a + b) * 6 / 89)"
   ]
  },
  {
   "cell_type": "markdown",
   "id": "a3b57079-20b9-488b-b950-30bc36ad9f72",
   "metadata": {},
   "source": [
    "## Coin change\n",
    "\n",
    "Write your coin change program below!"
   ]
  },
  {
   "cell_type": "code",
   "execution_count": null,
   "id": "07c8146c-d945-4ce7-9e2b-9297b3f201b9",
   "metadata": {},
   "outputs": [],
   "source": []
  },
  {
   "cell_type": "markdown",
   "id": "a27954de-37a1-4da3-9fae-e6a2d034c432",
   "metadata": {},
   "source": [
    "# Conditionals\n",
    "\n",
    "An if statement is a programming construct that allows you to control the flow of your code based on certain boundaries. \n",
    "\n",
    "It evaluates whether a given condition is true or false and executes a block of code only if the condition is true. "
   ]
  },
  {
   "cell_type": "markdown",
   "id": "019c9579-e71e-4447-9d84-650b02ddb39c",
   "metadata": {},
   "source": [
    "## If statements\n",
    "There are two portions to it: a condition and an action\n",
    "\n",
    "Note that after the if statement, the \"action\" code is indented. "
   ]
  },
  {
   "cell_type": "code",
   "execution_count": null,
   "id": "a19392a2-33a8-49e8-b7e0-369ac89556ba",
   "metadata": {},
   "outputs": [],
   "source": [
    "if 3 > 2: # condition\n",
    "    print(\"3 is more than 2\") # action"
   ]
  },
  {
   "cell_type": "markdown",
   "id": "c0c0390a-a501-40e0-aa40-08e6c934432e",
   "metadata": {},
   "source": [
    "## Comparison Operators\n",
    "\n",
    "\n",
    "<table>\n",
    "  <tr>\n",
    "    <th>Math</th>\n",
    "    <th>Description</th>\n",
    "    <th>Python</th>\n",
    "  </tr>\n",
    "  <tr>\n",
    "    <td>a = b</td>\n",
    "    <td>a is equal to b (e.g. 1 = 1)</td>\n",
    "    <td>==</td>\n",
    "  </tr>\n",
    "  <tr>\n",
    "    <td>a > b</td>\n",
    "    <td>a is greater than b (e.g. 2 > 1)</td>\n",
    "    <td>&gt;</td>\n",
    "  </tr>\n",
    "  <tr>\n",
    "    <td>a < b</td>\n",
    "    <td>a is smaller than b (e.g. 1 < 10)</td>\n",
    "    <td>&lt;</td>\n",
    "  </tr>\n",
    "  <tr>\n",
    "    <td>a ≤ b</td>\n",
    "    <td>a is greater than or equal to b (e.g. 20 ≥ 5, 3 ≥ 3)</td>\n",
    "    <td>&gt;=</td>\n",
    "  </tr>\n",
    "  <tr>\n",
    "    <td>a ≤ b</td>\n",
    "    <td>a is smaller than or equal to b (e.g. 10 ≤ 100, 1 ≤ 1)</td>\n",
    "    <td>&lt;=</td>\n",
    "  </tr>\n",
    "  <tr>\n",
    "    <td>a ≠ b</td>\n",
    "    <td>a is not equal to b (e.g. 10 ≠ 100, 2 ≠ 1)</td>\n",
    "    <td>!=</td>\n",
    "  </tr>\n",
    "</table>"
   ]
  },
  {
   "cell_type": "markdown",
   "id": "37e8043f-2639-47ed-bf60-cf77b321e792",
   "metadata": {},
   "source": [
    "## Hawker Centre Program\n",
    "\n",
    "At Buona Vista Hawker Center, there exists a hawker center. The stall owner decided to create a program that calculates the price of the food to be paid by the customer. Since it is close to a school, it decided to **discount** those who are students. \n",
    "\n",
    "\n",
    "\n",
    "Here is a sample code that utilises if-statements, try changing the variable `age` to see how the program behaves differently."
   ]
  },
  {
   "cell_type": "code",
   "execution_count": null,
   "id": "9b9c6bd6-fa52-4d43-858d-7247d7f58b77",
   "metadata": {},
   "outputs": [],
   "source": [
    "age = 16 # Change me! Notice how 18 and above doesn't print anything\n",
    "if age <= 18:\n",
    "\tprint(\"Discounted Price\")"
   ]
  },
  {
   "cell_type": "markdown",
   "id": "f84afe39-82c4-4c86-88a5-f81f3e2b2f39",
   "metadata": {},
   "source": [
    "What if we want the user to input the number? What do we need to do?\n",
    "<details>\n",
    "    <summary>Hint</summary>\n",
    "    Refer back to Chapter 2: IO Variables and Arithmetics\n",
    "</details>"
   ]
  },
  {
   "cell_type": "code",
   "execution_count": null,
   "id": "5f9f8a86-430a-44e0-acc7-7807bbc3bd5d",
   "metadata": {},
   "outputs": [],
   "source": [
    "age = 16 # Change me so that users can input their own age!\n",
    "if age <= 18:\n",
    "\tprint(\"Discounted Price\")"
   ]
  },
  {
   "cell_type": "markdown",
   "id": "ae4da238-a272-48a5-a22c-4e43677589d2",
   "metadata": {},
   "source": [
    "Note that the \"action\" of the if statement has to be indented or else it does not work."
   ]
  },
  {
   "cell_type": "code",
   "execution_count": null,
   "id": "24bf0d03-c2aa-4858-a04c-e5389d19c217",
   "metadata": {},
   "outputs": [],
   "source": [
    "age = int(input(\"What is your age: \"))\n",
    "if age <= 18:\n",
    "print(\"Discounted Price\") # Why do I not work?"
   ]
  },
  {
   "cell_type": "markdown",
   "id": "44af07fc-dd4d-46d2-a9c5-df9cc6b08e5f",
   "metadata": {},
   "source": [
    "What if I want to print \"Regular Price\" For someone whose age is above 18? "
   ]
  },
  {
   "cell_type": "code",
   "execution_count": null,
   "id": "5149d27b-e081-4cc5-9f2e-251e1e13f520",
   "metadata": {},
   "outputs": [],
   "source": [
    "age = int(input(\"What is your age: \"))\n",
    "if age <= 18:\n",
    "\tprint(\"Discounted Price\")\n",
    "# Try typing your else block here!"
   ]
  },
  {
   "cell_type": "markdown",
   "id": "84efdf4b-81d7-45c2-ab49-728ad895160a",
   "metadata": {},
   "source": [
    "Singapore’s population is aging fast, there will be 1/5 of the population who are aged 65 and above in 2023. The stall owner decided to **subsidise food for those who are 65** and above. \n",
    "\n",
    "What if I want to have a separate category for the elderly?\n",
    "\n",
    "<details>\n",
    "    <summary>Hint</summary>\n",
    "    The \"no\" branch of the first if else statement represents everyone other than the children; how do we further differentiate it?\n",
    "</details>"
   ]
  },
  {
   "cell_type": "markdown",
   "id": "79a09f5c-a42c-4ea1-8d09-392bf4ab4dea",
   "metadata": {},
   "source": [
    "What if I want to check for two conditions? We can use and/or statements."
   ]
  },
  {
   "cell_type": "code",
   "execution_count": null,
   "id": "0d55ecd7-ee9a-435b-beb3-c23184e5f50b",
   "metadata": {},
   "outputs": [],
   "source": [
    "age = int(input(\"What is your age: \"))\n",
    "is_student = input(\"Are you a student: \")\n",
    "if age <= 18 and is_student == \"yes\":\n",
    "\tprint(\"Discounted Price (Student)\")\n",
    "elif age <= 18 and is_student == \"no\":\n",
    "\tprint(\"Discounted Price (Children)\")\n",
    "elif age  >= 65:\n",
    "\tprint(\"Discounted Price (Elderlies)\")\n",
    "else:\n",
    "\tprint(\"Regular Price\")"
   ]
  },
  {
   "cell_type": "markdown",
   "id": "74106b14-dd87-48ab-a49d-5b7681707e1b",
   "metadata": {},
   "source": [
    "Do note that anything outside the if-statement is always executed."
   ]
  },
  {
   "cell_type": "code",
   "execution_count": 2,
   "id": "9dacd783-7083-4fd7-8b52-575b051a69b9",
   "metadata": {},
   "outputs": [],
   "source": [
    "# Discounts #######################\n",
    "# Students 18 and below : 30% off #\n",
    "# Children 18 and below : 10% off #\n",
    "# Elderlies 65 and above: 30% off #\n",
    "###################################\n",
    "\n",
    "age = int(input(\"What is your age: \"))\n",
    "is_student = \"yes\"\n",
    "price = 60\n",
    "if age <= 18 and is_student == \"yes\":\n",
    "\tdiscount = 0.3\n",
    "elif age <= 18 and is_student == \"no\":\n",
    "\tdiscount = 0.1\n",
    "elif age  >= 65:\n",
    "\tdiscount = 0.3\n",
    "else:\n",
    "\tdiscount = 0\n",
    "\t\n",
    "final_price = price * (1 - discount) # I am always executed! "
   ]
  },
  {
   "cell_type": "markdown",
   "id": "eef13ffd-69f1-4361-8771-3214528c7110",
   "metadata": {},
   "source": [
    "## Excercise 1: Hawker Centre Plan\n",
    "Do you remember the Hawker Centre Plan you created earlier? Can you code it out?"
   ]
  },
  {
   "cell_type": "code",
   "execution_count": null,
   "id": "37aaa3d6",
   "metadata": {},
   "outputs": [],
   "source": [
    "# Write your code here!"
   ]
  },
  {
   "cell_type": "markdown",
   "id": "f30cc082-5820-4063-a0a7-0184e9d0159a",
   "metadata": {},
   "source": [
    "## Excercise 2: BMI calculator\n",
    "Create a BMI calculator that:\n",
    "1. Asks the user for their height(cm) and weight(kg)\n",
    "2. Calculates their BMI\n",
    "3. Output the weight category they are in\n",
    "\n",
    "$BMI=\\frac{weight(kg)}{height(m)^2}$"
   ]
  },
  {
   "cell_type": "code",
   "execution_count": null,
   "id": "8324c23a-cb22-43f1-aa83-377c24aababb",
   "metadata": {},
   "outputs": [],
   "source": [
    "# Write your code here!"
   ]
  },
  {
   "cell_type": "markdown",
   "id": "6af23e1b-6545-493c-bf37-ee1852201c64",
   "metadata": {},
   "source": [
    "## Homework Activity: Animal classifier\n",
    "Write a program that asks the user a series of questions to classify the animal the user is thinking about into one of these 6 categories\n",
    "\n",
    "**Mammals, Insects, Birds, Amphibians, Reptiles, Fishes**\n",
    "\n",
    "Questions:\n",
    "1. How many legs does it have?\n",
    "2. Does it have scales?\n",
    "3. Does it give birth to young live?\n",
    "4.   Does it have gills?\n",
    "5.   Does it have a beak?\n",
    "6.   Is it amphibious?"
   ]
  },
  {
   "cell_type": "code",
   "execution_count": null,
   "id": "44f2cbcf-c1ab-4119-87f7-054fe7ee0eed",
   "metadata": {},
   "outputs": [],
   "source": [
    "# Write your code here!"
   ]
  }
 ],
 "metadata": {
  "kernelspec": {
   "display_name": "Python 3 (ipykernel)",
   "language": "python",
   "name": "python3"
  },
  "language_info": {
   "codemirror_mode": {
    "name": "ipython",
    "version": 3
   },
   "file_extension": ".py",
   "mimetype": "text/x-python",
   "name": "python",
   "nbconvert_exporter": "python",
   "pygments_lexer": "ipython3",
   "version": "3.11.1"
  }
 },
 "nbformat": 4,
 "nbformat_minor": 5
}
