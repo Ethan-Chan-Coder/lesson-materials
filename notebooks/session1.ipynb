{
 "cells": [
  {
   "cell_type": "markdown",
   "id": "485b3ed7-7260-418e-ab0f-436b55da4604",
   "metadata": {},
   "source": [
    "### What is an algorithm?\n",
    "An algorithm can have inputs and outputs, and even a single instruction is an algorithm. Every flowchart and python code that we show later can be considered a flowchart."
   ]
  },
  {
   "cell_type": "markdown",
   "id": "bff44c2b-7f80-4854-a3c1-91c5ae1a9271",
   "metadata": {},
   "source": [
    "## Introduction to printing + comments\n",
    "The code block right below this text **contains code that displays \"Hello, World!\" to the console**.\n",
    "\n",
    "You can run all code in this file by clicking on the play button at the horizontal bar on top"
   ]
  },
  {
   "cell_type": "code",
   "execution_count": 1,
   "id": "b9252b41-101a-4f8c-a1d1-50a1c7dd227b",
   "metadata": {},
   "outputs": [
    {
     "name": "stdout",
     "output_type": "stream",
     "text": [
      "Hello, World!\n"
     ]
    }
   ],
   "source": [
    "print(\"Hello, World!\")"
   ]
  },
  {
   "cell_type": "markdown",
   "id": "f96f9d7b-9e7f-45d5-9d8f-b96fdc088063",
   "metadata": {},
   "source": [
    "Let's **change the text in quotes below**! You can change it to anything you like - Just run it to see what is the result!"
   ]
  },
  {
   "cell_type": "code",
   "execution_count": null,
   "id": "768c4f66-fade-452f-9b7a-d9d5188dbd8a",
   "metadata": {},
   "outputs": [],
   "source": [
    "print(\"Welcome do the world of programming!\")"
   ]
  },
  {
   "cell_type": "markdown",
   "id": "47bb576b-847d-49e6-b06e-0cc09006a3d9",
   "metadata": {},
   "source": [
    "#### Introduction to comments\n",
    "\n",
    "Comments are code that **does not do anything within the program** - It is ignored by the computer when the computer runs the code. What do you think comments might be? "
   ]
  },
  {
   "cell_type": "code",
   "execution_count": null,
   "id": "1ceb2e8e-f90c-4221-86a2-f977a702e83b",
   "metadata": {},
   "outputs": [],
   "source": [
    "# This is a comment "
   ]
  },
  {
   "cell_type": "markdown",
   "id": "ce6c72b4-758d-4095-a350-d8de6ef60688",
   "metadata": {},
   "source": [
    "## Greetings\n",
    "Below is some code that greets someone named John Doe. We do this but assigning a string `\"John Doe\"` to a variable named `name`."
   ]
  },
  {
   "cell_type": "code",
   "execution_count": null,
   "id": "fc177b91-6385-4714-a320-5ee7f2aa9a9f",
   "metadata": {},
   "outputs": [],
   "source": [
    "name = \"John Doe\" # setting the name variable to \"John Doe\"\n",
    "print(f\"Hello, {name}!\") # Outputs \"Hello, John Doe!\""
   ]
  },
  {
   "cell_type": "markdown",
   "id": "a84d08b5-08fe-418c-bf62-87407b4c8ae5",
   "metadata": {},
   "source": [
    "Now, lets greet the user (you)!\n",
    "\n",
    "There is already code below that greets John Doe. **Can you change the code below** to a different greeting and a different name so that it is **greeting you** instead? \n",
    "\n",
    "You can also change the comments to reflect what you are actually doing in the code below!"
   ]
  },
  {
   "cell_type": "code",
   "execution_count": null,
   "id": "1005617d-bc03-48a8-a427-b3a509a00dd1",
   "metadata": {},
   "outputs": [],
   "source": [
    "name = \"John Doe\" # setting the name variable to \"John Doe\"\n",
    "print(f\"Hello, {name}!\") # Outputs \"Hello, John Doe!\""
   ]
  },
  {
   "cell_type": "markdown",
   "id": "50d9b1de-90b2-49ed-a81d-f5b5a53cbe69",
   "metadata": {},
   "source": [
    "#### Greeting with user input\n",
    "Below is some code that greets the user based on what he inputs.\n",
    "\n",
    "Let's try to modify the program below to match the flowchart shown."
   ]
  },
  {
   "cell_type": "code",
   "execution_count": null,
   "id": "886ac25f-9157-48eb-9744-621335cf5648",
   "metadata": {},
   "outputs": [],
   "source": [
    "name = input(\"Say whatever you want: \") # Change me to fit what the flowchart shows\n",
    "print(f\"Hello, {name}!\") # Outputs \"Hello, John Doe!\""
   ]
  },
  {
   "cell_type": "markdown",
   "id": "052a49a1-6aa5-4cde-967c-3eeba072478a",
   "metadata": {},
   "source": [
    "## BMI Calculator\n",
    "Below is some code that does not run. Can you guess why is that so?"
   ]
  },
  {
   "cell_type": "code",
   "execution_count": 2,
   "id": "6e332b9c-ef9e-47a2-8221-44c15e0c791d",
   "metadata": {},
   "outputs": [
    {
     "name": "stdin",
     "output_type": "stream",
     "text": [
      " 60\n",
      " 1.6\n"
     ]
    },
    {
     "ename": "TypeError",
     "evalue": "can't multiply sequence by non-int of type 'str'",
     "output_type": "error",
     "traceback": [
      "\u001b[1;31m---------------------------------------------------------------------------\u001b[0m",
      "\u001b[1;31mTypeError\u001b[0m                                 Traceback (most recent call last)",
      "Cell \u001b[1;32mIn[2], line 4\u001b[0m\n\u001b[0;32m      1\u001b[0m weight \u001b[38;5;241m=\u001b[39m \u001b[38;5;28minput\u001b[39m()\n\u001b[0;32m      2\u001b[0m height \u001b[38;5;241m=\u001b[39m \u001b[38;5;28minput\u001b[39m()\n\u001b[1;32m----> 4\u001b[0m bmi \u001b[38;5;241m=\u001b[39m weight \u001b[38;5;241m/\u001b[39m (\u001b[43mheight\u001b[49m\u001b[43m \u001b[49m\u001b[38;5;241;43m*\u001b[39;49m\u001b[43m \u001b[49m\u001b[43mheight\u001b[49m)\n\u001b[0;32m      6\u001b[0m \u001b[38;5;28mprint\u001b[39m(\u001b[38;5;124mf\u001b[39m\u001b[38;5;124m\"\u001b[39m\u001b[38;5;124mYour BMI is: \u001b[39m\u001b[38;5;132;01m{\u001b[39;00mbmi\u001b[38;5;132;01m}\u001b[39;00m\u001b[38;5;124m\"\u001b[39m)\n",
      "\u001b[1;31mTypeError\u001b[0m: can't multiply sequence by non-int of type 'str'"
     ]
    }
   ],
   "source": [
    "weight = input(\"Enter your weight: \")\n",
    "height = input(\"Enter your height: \")\n",
    "\n",
    "bmi = weight / (height * height)\n",
    "\n",
    "print(f\"Your BMI is: {bmi}\")"
   ]
  },
  {
   "cell_type": "markdown",
   "id": "2885a03a-c45d-47e0-9ea1-386a15e67ea9",
   "metadata": {},
   "source": [
    "This is the exact same code as the above cell. Edit the code below to fix the bug above."
   ]
  },
  {
   "cell_type": "code",
   "execution_count": null,
   "id": "8bb828fc-945f-44d1-910f-94dd52cea0ee",
   "metadata": {},
   "outputs": [],
   "source": [
    "# Edit this code\n",
    "weight = input(\"Enter your weight: \")\n",
    "height = input(\"Enter your height: \")\n",
    "\n",
    "bmi = weight / (height * height)\n",
    "\n",
    "print(f\"Your BMI is: {bmi}\")"
   ]
  },
  {
   "cell_type": "code",
   "execution_count": null,
   "id": "b14a5bc4-ff9d-4fbd-8661-fd6d8c782a6f",
   "metadata": {},
   "outputs": [],
   "source": []
  }
 ],
 "metadata": {
  "kernelspec": {
   "display_name": "Python 3 (ipykernel)",
   "language": "python",
   "name": "python3"
  },
  "language_info": {
   "codemirror_mode": {
    "name": "ipython",
    "version": 3
   },
   "file_extension": ".py",
   "mimetype": "text/x-python",
   "name": "python",
   "nbconvert_exporter": "python",
   "pygments_lexer": "ipython3",
   "version": "3.12.3"
  }
 },
 "nbformat": 4,
 "nbformat_minor": 5
}
