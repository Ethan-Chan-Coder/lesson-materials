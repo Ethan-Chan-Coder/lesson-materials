{
 "cells": [
  {
   "cell_type": "markdown",
   "id": "0a9aa6bd-cb53-41f7-bf29-71ec5d22d97f",
   "metadata": {},
   "source": [
    "# Lists\n",
    "Lists can store a multiple values in a specific sequence. An example is shown below."
   ]
  },
  {
   "cell_type": "code",
   "execution_count": null,
   "id": "a4fe75ca-5bdd-4747-9a83-d5c43cd0b7a4",
   "metadata": {},
   "outputs": [],
   "source": [
    "fruits = [\"Apples\", \"Bananas\", \"Cherries\"]\n",
    "\n",
    "print(fruits[2]) # Fix the bug here to print out \"Apples\" from the list (The first element of the list)!\n",
    "\n",
    "# Write some code here to change \"Apples\" to \"Apricots\"!\n",
    "\n",
    "# Type your code here..."
   ]
  },
  {
   "cell_type": "markdown",
   "id": "4abddce6-efcf-4fcf-bcb8-71c4a56f6de5",
   "metadata": {},
   "source": [
    "Lists can store any data type, including integers and floats as shown below!"
   ]
  },
  {
   "cell_type": "code",
   "execution_count": null,
   "id": "24f9c42a-7536-4787-83ee-b05c926b2eea",
   "metadata": {},
   "outputs": [],
   "source": [
    "colours = [\"Red\", \"Blue\", \"Green\"] # a list of strings\n",
    "numbers = [3.14159, 1.61803, 2.71828] # a list of floats\n",
    "student_grades = [95, 88, 76, 64, 55] # a list of integers"
   ]
  },
  {
   "cell_type": "markdown",
   "id": "db37ff6f-3f8b-4dca-bdb7-73a887b5ed15",
   "metadata": {},
   "source": [
    "Strings actually have a structure that is very similar to lists. Change the code below to output the **exclamation mark** in the string!"
   ]
  },
  {
   "cell_type": "code",
   "execution_count": null,
   "id": "cbf35f69-aded-47b1-a9c9-ca574318ffa5",
   "metadata": {},
   "outputs": [],
   "source": [
    "greeting = \"Hello!\"\n",
    "print(greeting[0])"
   ]
  },
  {
   "cell_type": "markdown",
   "id": "8fb50d18",
   "metadata": {},
   "source": [
    "### Using for loops in lists"
   ]
  },
  {
   "cell_type": "markdown",
   "id": "8132108b-63cb-4739-8b1d-b256f15a7fa8",
   "metadata": {},
   "source": [
    "Remember range() and how it generates a sequence of numbers, where you can use a for loop to do **an action for each element in the sequence generated?**\n",
    "\n",
    "You can also use a for loop to carry out an action for each element in **lists**! Can you use a for loop to output the following?\n",
    "\n",
    "**Example output**\n",
    "```plaintext\n",
    "I need to buy Apples\n",
    "I need to buy Bananas\n",
    "I need to buy Cherries\n",
    "```"
   ]
  },
  {
   "cell_type": "code",
   "execution_count": null,
   "id": "e261e648-dcc4-4169-83d2-e79217e84bd3",
   "metadata": {},
   "outputs": [],
   "source": [
    "fruits = [\"Apples\", \"Bananas\", \"Cherries\"]\n",
    "\n",
    "# type your code here!\n"
   ]
  },
  {
   "cell_type": "code",
   "execution_count": null,
   "id": "6232ff90",
   "metadata": {},
   "outputs": [],
   "source": [
    "# In the instructor's notebook\n",
    "fruits = [\"Apples\", \"Bananas\", \"Cherries\"]\n",
    "\n",
    "for fruit in fruits:\n",
    "    print(f\"I need to buy {fruit}\")"
   ]
  },
  {
   "cell_type": "markdown",
   "id": "939d2002",
   "metadata": {},
   "source": [
    "If you think about it, `range(1, 5)` can also be represented as `[1, 2, 3, 4]`!\n",
    "\n",
    "The two for loops below will output the same thing, just that one of them iterates through"
   ]
  },
  {
   "cell_type": "code",
   "execution_count": null,
   "id": "cc4d8d52",
   "metadata": {},
   "outputs": [],
   "source": [
    "numbers = [0, 1, 2, 3]\n",
    "for i in numbers:\n",
    "    print(f\"The current number is {i}\")\n",
    "\n",
    "for i in range(1, 5):\n",
    "    print(f\"The current number is {i}\")"
   ]
  },
  {
   "cell_type": "markdown",
   "id": "a3f418aa-950b-498c-aa3a-7df1477869f6",
   "metadata": {},
   "source": [
    "You can also use a for loop to carry out an action for each element in **strings**! An example is shown below!"
   ]
  },
  {
   "cell_type": "code",
   "execution_count": null,
   "id": "9cc1bd05-496a-4ed6-a1e7-9e9b256169dd",
   "metadata": {},
   "outputs": [],
   "source": [
    "# In this code, for each element in the string, it prints out the element\n",
    "greeting = \"Hello!\"\n",
    "\n",
    "for char in greeting:\n",
    "    print(char)\n"
   ]
  },
  {
   "attachments": {},
   "cell_type": "markdown",
   "id": "bc54676c-c82d-4a74-853e-c5502d6578d5",
   "metadata": {},
   "source": [
    "**Task:** For each element in the for loop, print out the element and its corresponding element!\n",
    "\n",
    "**Example output:**\n",
    "```plaintext\n",
    "Element at index 0 is pen\n",
    "Element at index 1 is eraser\n",
    "Element at index 2 is pencil\n",
    "```\n",
    "\n",
    "The `range()` function has an argument which has the value of the length of the list\n",
    "\n",
    "<details>\n",
    "    <summary>Hint:</summary>\n",
    "range(3) returns a sequence of 0, 1, 2, and the for loop will run code for each of those numbers\n",
    "\n",
    "It also just happens that the list has the indexes from 0, 1, and 2, in the exact same order as the sequence returned by range(3)...\n",
    "</details>\n"
   ]
  },
  {
   "cell_type": "code",
   "execution_count": null,
   "id": "b77131bd-44d0-4372-aaa2-4071a2a3a815",
   "metadata": {},
   "outputs": [],
   "source": [
    "things_to_buy = [\"pen\", \"eraser\", \"pencil\"]\n",
    "for i in range(3):\n",
    "    # For each element in the for loop, print out the element and its corresponding element without changing the first two lines!\n",
    "\n",
    "# Change the code above to use a function that automatically gets the length of the list once you are done!"
   ]
  },
  {
   "cell_type": "code",
   "execution_count": null,
   "id": "da06178c",
   "metadata": {},
   "outputs": [],
   "source": [
    "# The instructor's notebook\n",
    "\n",
    "things_to_buy = [\"pen\", \"eraser\", \"pencil\"]\n",
    "for i in range(3):\n",
    "    element = things_to_buy[i]\n",
    "    print(f\"Element at index {i} is {element}\")\n",
    "\n",
    "# Change the code above to use a function that automatically gets the length of the list once you are done!"
   ]
  },
  {
   "cell_type": "markdown",
   "id": "7dc6987d-1f44-4b71-ae73-ec6b9e917281",
   "metadata": {},
   "source": [
    "### Seating arrangement\n",
    "Using the previous activity, let's code out a program that allows us to edit the seating arrangement of others!"
   ]
  },
  {
   "cell_type": "code",
   "execution_count": null,
   "id": "c5a287e3-129c-4efd-a893-0526c96d7de3",
   "metadata": {},
   "outputs": [],
   "source": [
    "seats = [\"Alice\", \"Bob\", \"\", \"Charlie\", \"\", \"Eve\", \"Dylan\"]\n",
    "class_list = [\"Alice\", \"Bob\", \"Charlie\", \"Dylan\", \"Eve\", \"Fred\", \"Gilbert\"]\n",
    "\n",
    "# Type your code here...\n"
   ]
  },
  {
   "cell_type": "markdown",
   "id": "8445c9f3",
   "metadata": {},
   "source": [
    "This is the model code **with data validation (Not in the participants notebook)**"
   ]
  },
  {
   "cell_type": "code",
   "execution_count": 1,
   "id": "bdaa5cdb-fbcc-42cd-b77d-86841310267c",
   "metadata": {},
   "outputs": [
    {
     "name": "stdout",
     "output_type": "stream",
     "text": [
      "Invalid seat number.\n",
      "\\This is the updated seating arrangement:\n",
      "Seat 1: Alice\n",
      "Seat 2: Bob\n",
      "Seat 3: \n",
      "Seat 4: Charlie\n",
      "Seat 5: \n",
      "Seat 6: Eve\n",
      "Seat 7: Dylan\n"
     ]
    }
   ],
   "source": [
    "# Initial seating arrangement\n",
    "seats = [\"Alice\", \"Bob\", \"\", \"Charlie\", \"\", \"Eve\", \"Dylan\"]\n",
    "class_list = [\"Alice\", \"Bob\", \"Charlie\", \"Dylan\", \"Eve\", \"Fred\", \"Gilbert\"]\n",
    "\n",
    "# Printing the current seating arrangement\n",
    "print(\"\\This is the current seating arrangement:\")\n",
    "for i in range(len(seats)):\n",
    "    print(f\"Seat {i+1}: {seats[i]}\")\n",
    "\n",
    "# Update the seating arrangement\n",
    "seat_number = input(\"\\nEnter the seat number to update (1-6) or 0 to stop: \")\n",
    "while seat_number != 0:\n",
    "    if seat_number in \"123456\" and len(seat_number) == 1: # Not sure whether I should do this input validation?\n",
    "        student_name = input(f\"Enter the student's name for seat {seat_number} (Press enter if you want to make this seat empty): \")\n",
    "\n",
    "        if student_name in class_list: # Not sure whether I should do this input validation?\n",
    "            seat_number = int(seat_number) - 1\n",
    "            seats[seat_number] = student_name\n",
    "        else:\n",
    "            print(\"Invalid student\")\n",
    "    else:\n",
    "        print(\"Invalid seat number.\")\n",
    "\n",
    "    # Printing the updated seating arrangement\n",
    "    print(\"\\This is the updated seating arrangement:\")\n",
    "    for i in range(len(seats)):\n",
    "        print(f\"Seat {i+1}: {seats[i]}\")\n",
    "    \n",
    "    seat_number = input(\"\\nEnter the seat number to update (1-6) or 0 to stop: \")\n"
   ]
  },
  {
   "cell_type": "markdown",
   "id": "bb1c73b8-383d-46c1-a5bb-5d743839c3a1",
   "metadata": {},
   "source": [
    "Below is the model code **(will not be in the participants notebook)**"
   ]
  },
  {
   "cell_type": "code",
   "execution_count": null,
   "id": "00321764",
   "metadata": {},
   "outputs": [],
   "source": [
    "# If dont have data validation:\n",
    "\n",
    "# Initial seating arrangement\n",
    "seats = [\"Alice\", \"Bob\", \"\", \"Charlie\", \"\", \"Eve\", \"Dylan\"]\n",
    "class_list = [\"Alice\", \"Bob\", \"Charlie\", \"Dylan\", \"Eve\", \"Fred\", \"Gilbert\"]\n",
    "\n",
    "# Printing the current seating arrangement --> These 3 lines is repeated later on\n",
    "print(\"\\This is the current seating arrangement:\")\n",
    "for i in range(len(seats)):\n",
    "    print(f\"Seat {i+1}: {seats[i]}\")\n",
    "\n",
    "# Update the seating arrangement\n",
    "seat_number = input(\"\\nEnter the seat number to update (1-6) or 0 to stop: \")\n",
    "while seat_number != 0:\n",
    "    student_name = input(f\"Enter the student's name for seat {seat_number} (Press enter if you want to make this seat empty): \")\n",
    "    seat_number = int(seat_number) - 1\n",
    "    seats[seat_number] = student_name\n",
    "\n",
    "    print(\"\\This is the current seating arrangement:\")\n",
    "\n",
    "    # Printing the current seating arrangement --> This is where it is repeated \n",
    "    print(\"\\This is the updated seating arrangement:\")\n",
    "    for i in range(len(seats)):\n",
    "        print(f\"Seat {i+1}: {seats[i]}\")\n",
    "\n",
    "    seat_number = input(\"\\nEnter the seat number to update (1-6) or 0 to stop: \")"
   ]
  },
  {
   "cell_type": "markdown",
   "id": "bc2bcd7e-11a6-4e01-a996-c43bc4a13cb0",
   "metadata": {},
   "source": [
    "### Caesar cipher"
   ]
  },
  {
   "cell_type": "markdown",
   "id": "414c7192-5b3e-44e7-8563-349d32428d14",
   "metadata": {},
   "source": [
    "Do your activity for Caesar cipher here!"
   ]
  },
  {
   "cell_type": "code",
   "execution_count": null,
   "id": "6e22d782-e4fb-4ade-8be1-1f75988afb49",
   "metadata": {},
   "outputs": [],
   "source": [
    "alphabet = ['a', 'b', 'c', 'd', 'e', 'f', 'g', 'h', 'i', 'j', 'k', 'l', 'm', 'n', 'o', 'p', 'q', 'r', 's', 't', 'u', 'v', 'w', 'x', 'y', 'z']\n",
    "plaintext = input(\"What text would you like to encrypt using the caesar cipher?\")\n",
    "shift = int(input(\"What is the value for the shift for this operation?\"))\n",
    "ciphertext = \"\"\n",
    "\n",
    "# Type your code here..."
   ]
  },
  {
   "cell_type": "markdown",
   "id": "b30f380c-7921-4384-9cb3-4b4c28d62cae",
   "metadata": {},
   "source": [
    "Below is the model code **(will not be in the participants notebook)**"
   ]
  },
  {
   "cell_type": "code",
   "execution_count": null,
   "id": "a05f37f6-3a36-4a48-95a3-8133b3d7fb05",
   "metadata": {},
   "outputs": [],
   "source": [
    "alphabet = ['a', 'b', 'c', 'd', 'e', 'f', 'g', 'h', 'i', 'j', 'k', 'l', 'm', 'n', 'o', 'p', 'q', 'r', 's', 't', 'u', 'v', 'w', 'x', 'y', 'z']\n",
    "plaintext = input(\"What text would you like to encrypt using the caesar cipher?\")\n",
    "shift = int(input(\"What is the value for the shift for this operation?\"))\n",
    "ciphertext = \"\"\n",
    "\n",
    "for i in plaintext:\n",
    "    # find index in alphabet\n",
    "    alphabetindex = alphabet.index(i)\n",
    "    ciphertext = ciphertext + alphabet[(alphabetindex + shift)%26]\n",
    "    # print(ciphertext)\n",
    "print(f\"Your encrypted text is: {ciphertext}\")"
   ]
  },
  {
   "cell_type": "markdown",
   "id": "e226a1f1-611c-4458-b95b-7f6cf9ae950a",
   "metadata": {},
   "source": [
    "#### Appending\n",
    "Below is some code that appends 10 to the list `even`. Change the code such that 0 is appended instead!"
   ]
  },
  {
   "cell_type": "code",
   "execution_count": null,
   "id": "ee939f21-325e-475c-b6e5-604f43086866",
   "metadata": {},
   "outputs": [],
   "source": [
    "even = [2, 4, 6, 8]\n",
    "even.apppend(10)\n",
    "print(even)"
   ]
  },
  {
   "cell_type": "markdown",
   "id": "79add3ce-8bbd-4cd2-8b99-19dcbaea2450",
   "metadata": {},
   "source": [
    "#### Popping\n",
    "Below is some code that pops 6 from the list. Change the code such that the 10 is popped from the list!"
   ]
  },
  {
   "cell_type": "code",
   "execution_count": null,
   "id": "d7f7a370-f5d2-4cad-88e9-829efc94d9f1",
   "metadata": {},
   "outputs": [],
   "source": [
    "even = [2, 4, 6, 8, 10]\n",
    "even.pop(2) # pops the element at index 2, it DOES NOT pop the number 2 (index 0) from the list\n",
    "print(even)"
   ]
  },
  {
   "cell_type": "markdown",
   "id": "794d2d9e-2fe8-4e4b-b253-47a5e81a2385",
   "metadata": {},
   "source": [
    "### Todo list\n",
    "Code out your todo list (with appending and popping) in the cell below!"
   ]
  },
  {
   "cell_type": "code",
   "execution_count": null,
   "id": "528ad340-16f8-421c-aa4d-a26f74dcc363",
   "metadata": {},
   "outputs": [],
   "source": [
    "# Code out your todo list here!"
   ]
  },
  {
   "cell_type": "markdown",
   "id": "50422dad-793a-4c27-b973-e52b00feb4e7",
   "metadata": {},
   "source": [
    "Below is the model code **(will not be in the participants notebook)**"
   ]
  },
  {
   "cell_type": "code",
   "execution_count": null,
   "id": "549b1054-0a12-4a4d-a9b5-d36d875a5900",
   "metadata": {},
   "outputs": [],
   "source": [
    "# Todo list exercise\n",
    "choice = -1 # I set it to any number\n",
    "todo = []\n",
    "while choice != 4:\n",
    "    print('------------TODO LIST------------')\n",
    "    if todo == []:\n",
    "        print(\"The todo list is currently empty.\")\n",
    "    else:\n",
    "        for i in range(len(todo)):\n",
    "            print(f\"{i+1}. {todo[i]}\")\n",
    "    print('---------------------------------')\n",
    "    print(\"\\n\")\n",
    "\n",
    "    print(\"This is your current todo list. What would you like to do today? (Enter a number):\\n---------------\")\n",
    "\n",
    "    choice = int(input(\"(1) Mark a todo as done (Which removes it from the todo list)\\n(2) Add a todo\\n(3) Edit a todo\\n(4) Exit\\n\"))\n",
    "\n",
    "    if choice == 1: # Marking a todo as done\n",
    "        index_remove = int(input(\"Which todo would you like to mark as done? (Input its number): \"))\n",
    "        todo.pop(index_remove-1)\n",
    "\n",
    "    elif choice == 2: # Adding a todo\n",
    "        todo_add = input(\"What todo would you like to add? \")\n",
    "        todo.append(todo_add)\n",
    "\n",
    "    elif choice == 3: # Edit a todo\n",
    "        index_edit = int(input(\"What todo would you like to edit? (Input its number in the todo list): \"))\n",
    "        edited_todo = input(\"What would be the edited todo? \")\n",
    "        todo[index_edit-1] = edited_todo\n",
    "    print(\"\\n-----------------------------------------------------------------------------------------------\\n\")"
   ]
  }
 ],
 "metadata": {
  "kernelspec": {
   "display_name": "Python 3 (ipykernel)",
   "language": "python",
   "name": "python3"
  },
  "language_info": {
   "codemirror_mode": {
    "name": "ipython",
    "version": 3
   },
   "file_extension": ".py",
   "mimetype": "text/x-python",
   "name": "python",
   "nbconvert_exporter": "python",
   "pygments_lexer": "ipython3",
   "version": "3.12.3"
  }
 },
 "nbformat": 4,
 "nbformat_minor": 5
}
