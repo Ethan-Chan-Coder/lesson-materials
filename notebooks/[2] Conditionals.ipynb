{
 "cells": [
  {
   "cell_type": "markdown",
   "id": "a27954de-37a1-4da3-9fae-e6a2d034c432",
   "metadata": {},
   "source": [
    "# Conditionals\n",
    "\n",
    "1. If statements\n",
    "2. Comparison operators\n",
    "3. Discount calculator\n",
    "4. Hawker centre plan\n",
    "5. Improved BMI calculator\n",
    "6. Homework: Animal classifier\n",
    "\n",
    "An if statement is a programming construct that allows you to control the flow of your code based on certain boundaries.\\\n",
    "It evaluates whether a given condition is true or false and executes a block of code only if the condition is true. "
   ]
  },
  {
   "cell_type": "markdown",
   "id": "019c9579-e71e-4447-9d84-650b02ddb39c",
   "metadata": {},
   "source": [
    "## If statements\n",
    "There are two portions to it: a condition and an action\n",
    "\n",
    "Note that after the if statement, the \"action\" code is indented. "
   ]
  },
  {
   "cell_type": "code",
   "execution_count": null,
   "id": "a19392a2-33a8-49e8-b7e0-369ac89556ba",
   "metadata": {},
   "outputs": [],
   "source": [
    "if 3 > 2: # condition\n",
    "    print(\"3 is more than 2\") # action"
   ]
  },
  {
   "cell_type": "markdown",
   "id": "c0c0390a-a501-40e0-aa40-08e6c934432e",
   "metadata": {},
   "source": [
    "## Comparison operators\n",
    "\n",
    "\n",
    "<table>\n",
    "  <tr>\n",
    "    <th>Math</th>\n",
    "    <th>Description</th>\n",
    "    <th>Python</th>\n",
    "  </tr>\n",
    "  <tr>\n",
    "    <td>a = b</td>\n",
    "    <td>a is equal to b (e.g. 1 = 1)</td>\n",
    "    <td>==</td>\n",
    "  </tr>\n",
    "  <tr>\n",
    "    <td>a > b</td>\n",
    "    <td>a is greater than b (e.g. 2 > 1)</td>\n",
    "    <td>&gt;</td>\n",
    "  </tr>\n",
    "  <tr>\n",
    "    <td>a < b</td>\n",
    "    <td>a is smaller than b (e.g. 1 < 10)</td>\n",
    "    <td>&lt;</td>\n",
    "  </tr>\n",
    "  <tr>\n",
    "    <td>a ≤ b</td>\n",
    "    <td>a is greater than or equal to b (e.g. 20 ≥ 5, 3 ≥ 3)</td>\n",
    "    <td>&gt;=</td>\n",
    "  </tr>\n",
    "  <tr>\n",
    "    <td>a ≤ b</td>\n",
    "    <td>a is smaller than or equal to b (e.g. 10 ≤ 100, 1 ≤ 1)</td>\n",
    "    <td>&lt;=</td>\n",
    "  </tr>\n",
    "  <tr>\n",
    "    <td>a ≠ b</td>\n",
    "    <td>a is not equal to b (e.g. 10 ≠ 100, 2 ≠ 1)</td>\n",
    "    <td>!=</td>\n",
    "  </tr>\n",
    "</table>"
   ]
  },
  {
   "cell_type": "markdown",
   "id": "37e8043f-2639-47ed-bf60-cf77b321e792",
   "metadata": {},
   "source": [
    "# Discount calculator\n",
    "\n",
    "At Buona Vista Hawker Center, there exists a hawker center. The stall owner decided to create a program that calculates the price of the food to be paid by the customer. Since it is close to a school, it decided to **discount** those who are students. \n",
    "\n",
    "\n",
    "\n",
    "Here is a sample code that utilises if-statements, try changing the variable `age` to see how the program behaves differently."
   ]
  },
  {
   "cell_type": "code",
   "execution_count": null,
   "id": "9b9c6bd6-fa52-4d43-858d-7247d7f58b77",
   "metadata": {},
   "outputs": [],
   "source": [
    "age = 16 # Change me! Notice how 18 and above doesn't print anything\n",
    "if age <= 18:\n",
    "\tprint(\"Discounted Price\")"
   ]
  },
  {
   "cell_type": "markdown",
   "id": "f84afe39-82c4-4c86-88a5-f81f3e2b2f39",
   "metadata": {},
   "source": [
    "What if we want the user to input the number? What do we need to do?\n",
    "<details>\n",
    "    <summary>Hint</summary>\n",
    "    Refer back to Chapter 2: IO Variables and Arithmetics\n",
    "</details>"
   ]
  },
  {
   "cell_type": "code",
   "execution_count": null,
   "id": "5f9f8a86-430a-44e0-acc7-7807bbc3bd5d",
   "metadata": {},
   "outputs": [],
   "source": [
    "age = 16 # Change me so that users can input their own age!\n",
    "if age <= 18:\n",
    "\tprint(\"Discounted Price\")"
   ]
  },
  {
   "cell_type": "markdown",
   "id": "ae4da238-a272-48a5-a22c-4e43677589d2",
   "metadata": {},
   "source": [
    "Note that the \"action\" of the if statement has to be indented or else it does not work."
   ]
  },
  {
   "cell_type": "code",
   "execution_count": null,
   "id": "24bf0d03-c2aa-4858-a04c-e5389d19c217",
   "metadata": {},
   "outputs": [],
   "source": [
    "age = int(input(\"What is your age: \"))\n",
    "if age <= 18:\n",
    "print(\"Discounted Price\") # Why do I not work?"
   ]
  },
  {
   "cell_type": "markdown",
   "id": "44af07fc-dd4d-46d2-a9c5-df9cc6b08e5f",
   "metadata": {},
   "source": [
    "What if I want to print \"Regular Price\" For someone whose age is above 18? "
   ]
  },
  {
   "cell_type": "code",
   "execution_count": null,
   "id": "5149d27b-e081-4cc5-9f2e-251e1e13f520",
   "metadata": {},
   "outputs": [],
   "source": [
    "age = int(input(\"What is your age: \"))\n",
    "if age <= 18:\n",
    "\tprint(\"Discounted Price\")\n",
    "# Try typing your else block here!"
   ]
  },
  {
   "cell_type": "markdown",
   "id": "84efdf4b-81d7-45c2-ab49-728ad895160a",
   "metadata": {},
   "source": [
    "Singapore’s population is aging fast, there will be 1/5 of the population who are aged 65 and above in 2023. The stall owner decided to **subsidise food for those who are 65** and above.\n",
    "\n",
    "Moreover, a school opened up neaby the store, to attract the students, the store has decided to create \n",
    "\n",
    "The store decided to offer discounts in this way:\\\n",
    "65 and above: 20% off\\\n",
    "18 and below: 20% off\\\n",
    "18 and below and is a member: 30% off\n",
    "\n",
    "<details>\n",
    "    <summary>Hint</summary>\n",
    "    The \"no\" branch of the first if else statement represents everyone other than the children; how do we further differentiate it?\n",
    "</details>"
   ]
  },
  {
   "cell_type": "markdown",
   "id": "79a09f5c-a42c-4ea1-8d09-392bf4ab4dea",
   "metadata": {},
   "source": [
    "What if I want to check for two conditions? We can use and statements."
   ]
  },
  {
   "cell_type": "code",
   "execution_count": null,
   "id": "42d38e4d",
   "metadata": {},
   "outputs": [],
   "source": [
    "age = int(input(\"Enter age: \"))\n",
    "is_member = input(\"Are you a member (yes/no): \")\n",
    "\n",
    "if age <= 18:\n",
    "    discount = 0.2\n",
    "elif age >= 65:\n",
    "    discount = 0.2\n",
    "elif age < 18 and is_member == \"yes\":\n",
    "    discount = 0.3\n",
    "else:\n",
    "    discount = 0\n",
    "\n",
    "print(discount)"
   ]
  },
  {
   "cell_type": "markdown",
   "id": "772f0bd7",
   "metadata": {},
   "source": [
    "Notice how both people 65 and above and people 18 and below get 20 percent off. We can condense the code to show this"
   ]
  },
  {
   "cell_type": "code",
   "execution_count": null,
   "id": "9ec279a7",
   "metadata": {},
   "outputs": [],
   "source": [
    "age = int(input(\"Enter age: \"))\n",
    "is_member = input(\"Are you a member (yes/no): \")\n",
    "\n",
    "if age <= 18 or age >= 65:\n",
    "    discount = 0.2\n",
    "elif age < 18 and is_member == \"yes\":\n",
    "    discount = 0.3\n",
    "else:\n",
    "    discount = 0\n",
    "\n",
    "print(discount)"
   ]
  },
  {
   "cell_type": "markdown",
   "id": "fc77c3f3",
   "metadata": {},
   "source": [
    "\n",
    "Let us add some input validation. As of now, we can type in anything we want but lets restrict it to only \"yes\", \"no\" and positive numbers for the age question.\n",
    "\n",
    "Else, the program will not do anything. "
   ]
  },
  {
   "cell_type": "code",
   "execution_count": null,
   "id": "181a80c2",
   "metadata": {},
   "outputs": [],
   "source": [
    "age = int(input(\"Enter age: \"))\n",
    "is_member = input(\"Are you a member (yes/no): \")\n",
    "\n",
    "if not(age > 0 and (is_member == \"yes\" or is_member == \"no\")):\n",
    "    print(\"Invalid Input\")\n",
    "else:\n",
    "    if age <= 18 or age >= 65:\n",
    "        discount = 0.2\n",
    "    elif age < 18 and is_member == \"yes\":\n",
    "        discount = 0.3\n",
    "    else:\n",
    "        discount = 0\n",
    "\n",
    "print(discount)"
   ]
  },
  {
   "cell_type": "markdown",
   "id": "9d1ae66e",
   "metadata": {},
   "source": [
    "Lets caluclate the final price!"
   ]
  },
  {
   "cell_type": "code",
   "execution_count": null,
   "id": "9dacd783-7083-4fd7-8b52-575b051a69b9",
   "metadata": {},
   "outputs": [],
   "source": [
    "age = int(input(\"Enter age: \"))\n",
    "is_member = input(\"Are you a member (yes/no): \")\n",
    "price = 15\n",
    "\n",
    "if not(age > 0 and (is_member == \"yes\" or is_member == \"no\")):\n",
    "    print(\"Invalid Input\")\n",
    "else:\n",
    "    if age <= 18 or age >= 65:\n",
    "        discount = 0.2\n",
    "    elif age < 18 and is_member == \"yes\":\n",
    "        discount = 0.3\n",
    "    else:\n",
    "        discount = 0\n",
    "\n",
    "print(f\"The final price is {price * (1-discount)}\")"
   ]
  },
  {
   "cell_type": "markdown",
   "id": "eef13ffd-69f1-4361-8771-3214528c7110",
   "metadata": {},
   "source": [
    "## Hawker centre plan\n",
    "Do you remember your flowchart for your Hawker Centre Plan? Can you code it out?"
   ]
  },
  {
   "cell_type": "code",
   "execution_count": null,
   "id": "37aaa3d6",
   "metadata": {},
   "outputs": [],
   "source": [
    "# Write your code here!"
   ]
  },
  {
   "cell_type": "markdown",
   "id": "f30cc082-5820-4063-a0a7-0184e9d0159a",
   "metadata": {},
   "source": [
    "## BMI calculator\n",
    "Create a BMI calculator that:\n",
    "1. Asks the user for their height(cm) and weight(kg)\n",
    "2. Calculates their BMI\n",
    "3. Output the weight category they are in\n",
    "\n",
    "$BMI=\\frac{weight(kg)}{height(m)^2}$"
   ]
  },
  {
   "cell_type": "code",
   "execution_count": null,
   "id": "8324c23a-cb22-43f1-aa83-377c24aababb",
   "metadata": {},
   "outputs": [],
   "source": [
    "# Write your code here!"
   ]
  },
  {
   "cell_type": "markdown",
   "id": "429591dd-0b9d-4fc8-91a0-2c6b404b70aa",
   "metadata": {},
   "source": [
    "## Leap Year Calculator\n",
    "A leap year is a year that contains an extra day in order to keep the calendar year synchronized with the astronomical year.\\\n",
    "**Leap Year:** A year that has 366 days instead of the usual 365 days.\\\n",
    "**Purpose:** To align the calendar year with the Earth's orbit around the Sun, which takes approximately 365.25 days.\n",
    "\n",
    "**Leap Years**: 2024, 2000, 1600\\\n",
    "**Non-Leap Years**: 2023, 1900, 1800\n",
    "\n",
    "Write a program which asks the user for a year, and output whether the year provided is a leap year or not. \\\n",
    "You are to find out how to calculate leap years by yourself, without help from other people. Using Google __is allowed__. 😃"
   ]
  },
  {
   "cell_type": "code",
   "execution_count": null,
   "id": "933aff88-4afe-46bb-b6ed-ffcb3eb1084e",
   "metadata": {},
   "outputs": [],
   "source": [
    "# Write your code here!"
   ]
  },
  {
   "cell_type": "markdown",
   "id": "6af23e1b-6545-493c-bf37-ee1852201c64",
   "metadata": {},
   "source": [
    "## Extra Excercise: Animal classifier\n",
    "Write a program that asks the user a series of questions to classify the animal the user is thinking about into one of these 6 categories\n",
    "\n",
    "**Mammals, Insects, Birds, Amphibians, Reptiles, Fishes**\n",
    "\n",
    "Questions:\n",
    "1. How many legs does it have?\n",
    "2. Does it have scales?\n",
    "3. Does it give birth to young live?\n",
    "4.   Does it have gills?\n",
    "5.   Does it have a beak?\n",
    "6.   Is it amphibious?"
   ]
  },
  {
   "cell_type": "code",
   "execution_count": null,
   "id": "44f2cbcf-c1ab-4119-87f7-054fe7ee0eed",
   "metadata": {},
   "outputs": [],
   "source": [
    "# Write your code here!"
   ]
  },
  {
   "cell_type": "markdown",
   "id": "7c0cfa0c-2a8f-40f6-991f-10b8625cde52",
   "metadata": {},
   "source": [
    "\\\n",
    "\\\n",
    "Download the next lesson notebook (*While loops*) **[here](https://github.com/artofcode-sg/lesson-materials/blob/main/notebooks/%5B3%5D%20While%20loops.ipynb)**!"
   ]
  }
 ],
 "metadata": {
  "kernelspec": {
   "display_name": "Python 3 (ipykernel)",
   "language": "python",
   "name": "python3"
  },
  "language_info": {
   "codemirror_mode": {
    "name": "ipython",
    "version": 3
   },
   "file_extension": ".py",
   "mimetype": "text/x-python",
   "name": "python",
   "nbconvert_exporter": "python",
   "pygments_lexer": "ipython3",
   "version": "3.12.3"
  }
 },
 "nbformat": 4,
 "nbformat_minor": 5
}
