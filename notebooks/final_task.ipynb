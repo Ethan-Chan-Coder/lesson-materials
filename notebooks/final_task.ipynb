{
 "cells": [
  {
   "cell_type": "markdown",
   "metadata": {},
   "source": [
    "# Final Task\n",
    "Congratulations on reaching this final milestone to mastering python programming. In this section, we will utilise the concepts we learnt from the previous lesson to create a **Wordle Game**.\n",
    "\n",
    "For those who have not played, here are the rules. \\\n",
    "![image.png](https://www.usatoday.com/gcdn/presto/2022/01/07/USAT/138e4a71-4d3c-47e0-a514-1c41145ae8cc-Screenshot_2022-01-07_142746.png?width=1200&disable=upscale&format=pjpg&auto=webp)\n",
    "\n",
    "\n",
    "Dont worry! We will walk you through the entire process! At the end, you may choose to create Wordle Game **Modifications** not present in the actual game to make it more fun! "
   ]
  },
  {
   "cell_type": "markdown",
   "metadata": {},
   "source": [
    "## Task 1: Word guesser!\n",
    "Before we start, there are some helper functions given in this program to make your lifes easier! \n",
    "\n",
    "One example is the `generate_word()` function that we will be using below. It generates and returns a random 5-letter word. Try it out below!\n",
    "\n",
    "If needed, press the suqare stop button next to the code cell to stop code execution in the cell.  "
   ]
  },
  {
   "cell_type": "code",
   "execution_count": null,
   "metadata": {},
   "outputs": [],
   "source": [
    "from src.artOfCode import *\n",
    "\n",
    "word = generate_word() \n",
    "print(word) # Run me!"
   ]
  },
  {
   "cell_type": "markdown",
   "metadata": {},
   "source": [
    "Now, make a simple guessing game, where a player repeatedly guesses a word until the correct word is reached (though it is very unlikely)! \n",
    "\n",
    "Look below for an example usage:"
   ]
  },
  {
   "cell_type": "markdown",
   "metadata": {},
   "source": [
    "Guess: guess\\\n",
    "Guess: house\\\n",
    "Guess: cheat\\\n",
    "Guess: route\\\n",
    "Guess: rules\\\n",
    "Guess: rebus\\\n",
    "..."
   ]
  },
  {
   "cell_type": "markdown",
   "metadata": {},
   "source": [
    "## Task 2: Six times only\n",
    "In the real wordle, we can only get a maximum of 6 tries.\n",
    "\n",
    "Can we edit the while loop such that it ends after 6 guess attempts?\n",
    "\n",
    "<details>\n",
    "    <summary>Hint: How do we combine two conditionals together?</summary>\n",
    "    Refer back to Chapter 3: Conditionals\n",
    "</details>\n",
    "\n",
    "Example output:"
   ]
  },
  {
   "cell_type": "markdown",
   "metadata": {},
   "source": [
    "Guess 1: guess\\\n",
    "Guess 2: house\\\n",
    "Guess 3: cheat\\\n",
    "Guess 4: route\\\n",
    "Guess 5: rules\\\n",
    "Guess 6: rebus"
   ]
  },
  {
   "cell_type": "markdown",
   "metadata": {},
   "source": [
    "## Task 3: 🟩🟨⬛ Tiles\n",
    "Right now it doesnt really look it Wordle does it? It is missing the iconic green, yellow and black tiles. Let's recap\n",
    "- If the tile turns 🟩, the letter is in the word, and it is in the correct spot.\n",
    "- If the tile turns 🟨, the letter is in the word, but it is not in the correct spot.\n",
    "- If the tile turns ⬛, the letter is not in the word.\n",
    "\n",
    "Let's use these rules to output the result of each guess.\n",
    "\n",
    "But to do this, you would need to learn a new operator called `in`. The `in` operator checks whether a character is present in another character. Here is an example."
   ]
  },
  {
   "cell_type": "code",
   "execution_count": null,
   "metadata": {},
   "outputs": [],
   "source": [
    "if \"a\" in \"abc\":\n",
    "\tprint(\"a is in abc\") # printed\n",
    "\n",
    "if \"z\" in \"abc\":\n",
    "\tprint(\"z is in abc\") # not printed"
   ]
  },
  {
   "cell_type": "markdown",
   "metadata": {},
   "source": [
    "Now that we know what we need to know, lets create it!\n",
    "\n",
    "<details>\n",
    "    <summary>Hint: check each character one by one?</summary>\n",
    "    Refer back to Chapter 6: Lists\n",
    "</details>\n",
    "\n",
    "Example Output:"
   ]
  },
  {
   "cell_type": "markdown",
   "metadata": {},
   "source": [
    "Guess 1: house\\\n",
    "🟨⬛⬛⬛⬛\\\n",
    "Guess 2: chant\\\n",
    "🟩🟨🟨⬛🟨\\\n",
    "Guess 3: catch\\\n",
    "🟩🟩🟩🟩🟩"
   ]
  },
  {
   "cell_type": "markdown",
   "metadata": {},
   "source": [
    "## Task 4: Validate guesses (Length)\n",
    "What happens when we try entering a word that is more than or less than 5 characters? Try it on your own code.\n",
    "\n",
    "Let us validate the input by checking if the length of the guess is 5. Else, we should keep asking until the user gives a input which is 5 characters long\n",
    "\n",
    "Example Output"
   ]
  },
  {
   "cell_type": "markdown",
   "metadata": {},
   "source": [
    "Guess 1: python\\\n",
    "Incorrect Length\\\n",
    "Guess 1: fun\\\n",
    "Incorrect Length\\\n",
    "Guess 1: house\\\n",
    "⬛⬛⬛⬛🟨"
   ]
  },
  {
   "cell_type": "markdown",
   "metadata": {},
   "source": [
    "## Task 5: Validate guesses (English)\n",
    "What happens when we type in a non-english word? Try it on your own code. \n",
    "\n",
    "Well, it accepts the input. In the Wordle game, this should'nt happen. Only English words should be allowed.\n",
    "\n",
    "Fortunately, we have a helper function that is really useful here! `is_english_word()` checks whether the word is in the english dictioanry. Here is an example. "
   ]
  },
  {
   "cell_type": "code",
   "execution_count": null,
   "metadata": {},
   "outputs": [],
   "source": [
    "if is_english_word(\"test\"):\n",
    "\tprint(\"test is an english word\") # printed\n",
    "else:\n",
    "\tprint(\"test is not an english word\") # not printed\n",
    "\n",
    "if is_english_word(\"asdbe\"):\n",
    "\tprint(\"asdbe is an english word\") # not printed\n",
    "else:\n",
    "\tprint(\"asdbe is  not an english word\") # printed"
   ]
  },
  {
   "cell_type": "markdown",
   "metadata": {},
   "source": [
    "## Task 6: Output winner\n",
    "As of right now, the game just ends when you guess the word correctly, let us output something more useful!\n",
    "\n",
    "If lose: output “You lose! The word was xxxxx”\\\n",
    "If win: output \"You win! you took x out of 6 attempts!\""
   ]
  },
  {
   "cell_type": "markdown",
   "metadata": {},
   "source": [
    "## Task 7: Share Results\n",
    "There is a share function in Wordle that allows players to share their wordle attempt without revealing their word. Lets implement something similiar.\n",
    "\n",
    "![Untitled](https://encrypted-tbn0.gstatic.com/images?q=tbn:ANd9GcSYkSO1OVYnVO_OM_teIPL-1Sr0ugfLpnQ__A&usqp=CAU)\n",
    "\n",
    "Example Output:\n",
    "\n"
   ]
  },
  {
   "cell_type": "markdown",
   "metadata": {},
   "source": [
    "Guess 1: house\\\n",
    "⬛⬛⬛⬛⬛\\\n",
    "Guess 2: gloom\\\n",
    "⬛🟩⬛⬛⬛\\\n",
    "Guess 3: black\\\n",
    "🟩🟩🟩🟩🟩\\\n",
    "Do you want to share your results[y/n]: y\\\n",
    "Wordle Result 3/6\\\n",
    "⬛⬛⬛⬛⬛\\\n",
    "⬛🟩⬛⬛⬛\\\n",
    "🟩🟩🟩🟩🟩"
   ]
  },
  {
   "cell_type": "markdown",
   "metadata": {},
   "source": [
    "# Optional Game Modifications\n",
    "Here are some game modifications not present in the original wordle game to make it more interesting. \n",
    "1. Repeated Wordle Play (Difficulty: Low)\n",
    "2. Wordle Timer (Difficulty: Medium)\n",
    "3. Hints (Difficulty: High)"
   ]
  },
  {
   "cell_type": "markdown",
   "metadata": {},
   "source": [
    "## Mod 1: Repeated Wordle Play (Low Difficulty)\n",
    "Allow wordle to be played repeatedly. \n",
    "\n",
    "After every game is played, the program should ask the user if he wants to play again. \n",
    "\n",
    "The entire program should run until the user says he does not want to play anymore"
   ]
  },
  {
   "cell_type": "markdown",
   "metadata": {},
   "source": [
    "## Mod 2: Wordle Timer (Medium Difficulty)\n",
    "This game modificaiton will time your Wordle attempt.\n",
    "\n",
    "There will be 2 helper functions to help you, `start_timer()` and `get_elapsed_timer()`.\n",
    "\n",
    "1. `start_timer()` will start a timer\n",
    "2. `get_elapsed_time()` will return the time taken between `start_timer()` and `get_elapsed_time()`\n",
    "\n",
    "Here is an example usage:"
   ]
  },
  {
   "cell_type": "code",
   "execution_count": null,
   "metadata": {},
   "outputs": [],
   "source": [
    "from src.artOfCode import *\n",
    "\n",
    "start_timer() # timer starts\n",
    "for i in range(100):\n",
    "\tprint(i)\n",
    "duration = get_elapsed_time() # timer ends\n",
    "\n",
    "\n",
    "print(f\"It took {duration}s for python to print 0 to 100\")"
   ]
  },
  {
   "cell_type": "markdown",
   "metadata": {},
   "source": [
    "However, it outputs the time in seconds, can we display it in hours, minutes and seconds?\n",
    "\n",
    "Moreover, here are some aspects that you may want to consider\n",
    "1. How do we ensure that the time is not recorded when the user fails to solve the wordle?\n",
    "2. How do we get rid of the decimal points of the seconds?\n",
    "\n",
    "<details>\n",
    "    <summary>Hint: How do we calculate the time in hours, minutes and seconds?</summary>\n",
    "    Refer back to Chapter 2: IO variables and arithmetics - coin change calculator\n",
    "</details>"
   ]
  },
  {
   "cell_type": "markdown",
   "metadata": {},
   "source": [
    "## Mod 3: Wordle Hints (High Difficulty)\n",
    "When players are stuck, allow players to ask for a hint. The hint will take away **two** attempts from the user. For example, if the user uses two hints, they can only guess 2 more times. \n",
    "\n",
    "There will be a helper function that will help you! The helper function `hint()` takes in a list of previous answer and the answer. It will randomly ouput the hint based on the previous answers. Character which are already guessed will not be revealed as a hint.\n",
    "\n",
    "Here is an example usage:"
   ]
  },
  {
   "cell_type": "code",
   "execution_count": null,
   "metadata": {},
   "outputs": [],
   "source": [
    "from src.artOfCode import *\n",
    "\n",
    "answer = \"mouse\"\n",
    "previous_answers = [\"taste\", \"matte\"]\n",
    "print(hint(previous_answers, answer))"
   ]
  },
  {
   "cell_type": "markdown",
   "metadata": {},
   "source": [
    "Moreover, here are some aspects for you to consider\n",
    "1. how do we show the user that their max number of attempts decreased?\n",
    "2. How do validate that the user has enough attempts left to use a hint?\n",
    "3. how do we make sure that the 'share' function shows that hints were used?"
   ]
  },
  {
   "cell_type": "markdown",
   "metadata": {},
   "source": [
    "# Write your code here!"
   ]
  },
  {
   "cell_type": "code",
   "execution_count": null,
   "metadata": {},
   "outputs": [],
   "source": [
    "from src.artOfCode import *\n",
    "\n",
    "word = generate_word()\n",
    "# Write your code here!\n",
    "\n",
    "\n",
    "\n",
    "\n",
    "\n",
    "\n",
    "\n",
    "\n",
    "\n",
    "\n",
    "\n",
    "\n"
   ]
  }
 ],
 "metadata": {
  "kernelspec": {
   "display_name": "Python 3",
   "language": "python",
   "name": "python3"
  },
  "language_info": {
   "codemirror_mode": {
    "name": "ipython",
    "version": 3
   },
   "file_extension": ".py",
   "mimetype": "text/x-python",
   "name": "python",
   "nbconvert_exporter": "python",
   "pygments_lexer": "ipython3",
   "version": "3.12.3"
  }
 },
 "nbformat": 4,
 "nbformat_minor": 2
}
