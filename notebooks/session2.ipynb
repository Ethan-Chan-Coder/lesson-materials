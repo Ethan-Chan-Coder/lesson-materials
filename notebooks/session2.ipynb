{
 "cells": [
  {
   "cell_type": "markdown",
   "id": "533ea9a4-ed47-40ed-8213-b5c4d401d2b4",
   "metadata": {},
   "source": [
    "# Art of Code (session 2)\n",
    "\n",
    "**Table of contents**\n",
    "1. While loop example\n",
    "2. Login system\n",
    "3. Guess-the-number game\n",
    "4. Fizzbuzz explanations\n",
    "5. Counting\n",
    "6. Ranged for-loops\n",
    "7. Modulo refresher\n",
    "8. Fizzbuzz program\n",
    "9. Scissors paper stone"
   ]
  },
  {
   "cell_type": "markdown",
   "id": "feb46d2e-b494-466d-a0fc-968cef7a0221",
   "metadata": {},
   "source": [
    "## 1. While loop example\n",
    "\n",
    "A `while` loop repeatedly runs a block of code until a specified condition is false.\n",
    "\n",
    "Here's an example of a while loop you can run / edit. It repeatedly runs as long as `current_year < 2024`, so it'll stop re-running after `current_year` becomes 2024."
   ]
  },
  {
   "cell_type": "code",
   "execution_count": null,
   "id": "d3c859f2-aba1-4320-b42f-c878e6b21915",
   "metadata": {},
   "outputs": [],
   "source": [
    "current_year = 2017  # Our story starts in the past...\n",
    "tammy_birthyear = 2016  # This is the year when Tammy the turtle was born\n",
    "\n",
    "print(f\"[The year is {current_year}] This is my turtle Tammy 🐢, and she's 1 year old!\")\n",
    "\n",
    "# Here's the while loop!\n",
    "while current_year < 2024:\n",
    "    # Simulate one year passing\n",
    "    current_year = current_year + 1\n",
    "    print(f\"[The year is now {current_year}] Tammy 🐢 is now {current_year - tammy_birthyear} years old\")\n",
    "\n",
    "# This runs after the while loop ends\n",
    "print(\"Tammy is a big turtle now 🐢🎉\")"
   ]
  },
  {
   "cell_type": "markdown",
   "id": "29953845-0ab8-4201-84f2-6e3f62c188ee",
   "metadata": {},
   "source": [
    "## 2. Login system\n",
    "\n",
    "Complete this simple login system. It should ask the user to enter the password, and ask again if the password that the user entered was wrong. But stop asking for passwords after 5 failed attempts, or else any malicious user could guess the password by trying every possible combination..."
   ]
  },
  {
   "cell_type": "code",
   "execution_count": null,
   "id": "b9252b41-101a-4f8c-a1d1-50a1c7dd227b",
   "metadata": {},
   "outputs": [],
   "source": [
    "# Here's the correct password - check that the\n",
    "# user's password attempt is the same as this!\n",
    "correct_password = \"supersecurepassword123\"\n",
    "\n",
    "# Replace me with your login code!"
   ]
  },
  {
   "cell_type": "markdown",
   "id": "94ba3d63-3358-4fcf-b3d0-69f98e4a4226",
   "metadata": {},
   "source": [
    "## 3. Guess-the-number game\n",
    "\n",
    "This program will choose a random number, then let the user guess it. The program will tell the user if the guess is too high, too low, or correct. If the answer isn't correct, the program will keep letting the user guess, until the user guesses correctly!"
   ]
  },
  {
   "cell_type": "code",
   "execution_count": null,
   "id": "398cdae8-1f11-4d55-afa7-24c24fb4e361",
   "metadata": {},
   "outputs": [],
   "source": [
    "import random\n",
    "\n",
    "# This sets the \"answer\" variable to a random number between 1 and 100\n",
    "answer = random.randint(1, 100)\n",
    "\n",
    "# Replace me with your guess-the-number code!"
   ]
  },
  {
   "cell_type": "markdown",
   "id": "d7d1b6c6",
   "metadata": {},
   "source": [
    "## 5. Counting \n",
    "To build up to FizzBuzz, let's use a `while` loop to write a program that counts from 1 to 100."
   ]
  },
  {
   "cell_type": "code",
   "execution_count": null,
   "id": "3822f5b1",
   "metadata": {},
   "outputs": [],
   "source": [
    "# Replace me with your counting code!"
   ]
  },
  {
   "cell_type": "markdown",
   "id": "88bd5dce",
   "metadata": {},
   "source": [
    "## 6. Ranged for-loops\n",
    "For loops are a way to step through (*\"iteratate through\"*) items in a sequence while running a piece of code once **for each item in the sequence**.\n",
    "\n",
    "Run the code below to find out what it does!"
   ]
  },
  {
   "cell_type": "code",
   "execution_count": null,
   "id": "f80fb856",
   "metadata": {},
   "outputs": [],
   "source": [
    "# The syntax for ranges is:\n",
    "# range(start, stop)\n",
    "for i in range(1, 4):\n",
    "    print(f\"i is now {i}\")"
   ]
  },
  {
   "cell_type": "markdown",
   "id": "8a610440",
   "metadata": {},
   "source": [
    "<details>\n",
    "    <summary><strong>Tip:</strong> Default <code>start</code> values</summary>\n",
    "    We can also use <code>range(4)</code> to create a sequence that starts at <code>0</code> and ends at <code>3</code>, since the default value for <code>start</code> is <code>0</code>.\n",
    "</details>\n",
    "\n",
    "\\\n",
    "In the cell below, re-write your code from **5. Counting** to use a `for` loop instead of a `while` loop."
   ]
  },
  {
   "cell_type": "code",
   "execution_count": null,
   "id": "4d6e57d8-706d-444e-bfee-09e631669e55",
   "metadata": {},
   "outputs": [],
   "source": [
    "# Replace me with your counting code that uses a for loop!"
   ]
  },
  {
   "cell_type": "markdown",
   "id": "f0fc989b",
   "metadata": {},
   "source": [
    "## 7. Modulo Refresher\n",
    "Modulo (`%`) is used to find the remainder of a division. Modify the code below to see how the output changes!"
   ]
  },
  {
   "cell_type": "code",
   "execution_count": null,
   "id": "6017edb5",
   "metadata": {},
   "outputs": [],
   "source": [
    "# Change these variables and see how the output changes\n",
    "a = 11\n",
    "b = 5\n",
    "\n",
    "print(f\"The remainder of {a} divided by {b} is {a % b}\")"
   ]
  },
  {
   "cell_type": "markdown",
   "id": "7ba1b4d2",
   "metadata": {},
   "source": [
    "## 8. Fizzbuzz Program\n",
    "Copy-paste your counting code from **6. Ranged for loops** into the cell below, and edit it to output according to the rules of FizzBuzz.\n",
    "\n",
    "| Condition                                | Output     |\n",
    "| ---------------------------------------- | ---------- |\n",
    "| The number is a multiple of 3            | \"Fizz\"     |\n",
    "| The number is a multiple of 5            | \"Buzz\"     |\n",
    "| The number is a multiple of both 3 and 5 | \"FizzBuzz\" |\n",
    "| Otherwise                                | The number |"
   ]
  },
  {
   "cell_type": "code",
   "execution_count": null,
   "id": "d4275590",
   "metadata": {},
   "outputs": [],
   "source": [
    "# Replace me with your FizzBuzz code!"
   ]
  },
  {
   "cell_type": "markdown",
   "id": "daf7d146",
   "metadata": {},
   "source": [
    "## 9. Scissors Paper Stone\n",
    "Code a program that allows the user to play scissors-paper-stone (Best of three rounds). \n",
    "<br>The program should:\n",
    "<br>1. Use a for loop\n",
    "<br>2. Ask for the user’s choice\n",
    "<br>3. Generate the opponent’s choice\n",
    "<br>4. Output the result of the match\n"
   ]
  },
  {
   "cell_type": "code",
   "execution_count": null,
   "id": "7d4d4982",
   "metadata": {},
   "outputs": [],
   "source": [
    "# \"Scissors\" is represented by the integer 1\n",
    "#    \"Paper\" is represented by the integer 2\n",
    "#    \"Stone\" is represented by the integer 3\n",
    "\n",
    "# Replace me with your scissors-paper-stone code!"
   ]
  }
 ],
 "metadata": {
  "kernelspec": {
   "display_name": "Python 3 (ipykernel)",
   "language": "python",
   "name": "python3"
  },
  "language_info": {
   "codemirror_mode": {
    "name": "ipython",
    "version": 3
   },
   "file_extension": ".py",
   "mimetype": "text/x-python",
   "name": "python",
   "nbconvert_exporter": "python",
   "pygments_lexer": "ipython3",
   "version": "3.12.3"
  }
 },
 "nbformat": 4,
 "nbformat_minor": 5
}
