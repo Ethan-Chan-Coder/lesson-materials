{
 "cells": [
  {
   "cell_type": "markdown",
   "id": "eab38c55-ca00-4fa3-97be-819d496c6781",
   "metadata": {},
   "source": [
    "# Art of Code (session 2)\n",
    "\n",
    "Welcome to session 2! ..."
   ]
  },
  {
   "cell_type": "markdown",
   "id": "29953845-0ab8-4201-84f2-6e3f62c188ee",
   "metadata": {},
   "source": [
    "## Login system\n",
    "\n",
    "Complete this simple login system. It should ask the user to enter the password, and ask again if the password that the user entered was wrong. But stop asking for passwords after 5 failed attempts, or else any malicious user could guess the password by trying every possible combination..."
   ]
  },
  {
   "cell_type": "code",
   "execution_count": 1,
   "id": "b9252b41-101a-4f8c-a1d1-50a1c7dd227b",
   "metadata": {},
   "outputs": [],
   "source": [
    "# Here's the correct password - check that the\n",
    "# user's password attempt is the same as this!\n",
    "password = \"supersecurepassword123\"\n",
    "\n",
    "# Write your code below me!\n"
   ]
  },
  {
   "cell_type": "markdown",
   "id": "94ba3d63-3358-4fcf-b3d0-69f98e4a4226",
   "metadata": {},
   "source": [
    "## Guess-the-number game\n",
    "\n",
    "This program will choose a random number, then let the user guess it. The program will tell the user if the guess is too high, too low, or correct. If the answer isn't correct, the program will keep letting the user guess, until the user guesses correctly!"
   ]
  },
  {
   "cell_type": "code",
   "execution_count": 2,
   "id": "398cdae8-1f11-4d55-afa7-24c24fb4e361",
   "metadata": {},
   "outputs": [],
   "source": [
    "import random\n",
    "\n",
    "# This sets the \"answer\" variable to a random number between 1 and 100\n",
    "answer = random.randint(1, 100)\n",
    "\n",
    "# Write your code below me!\n"
   ]
  },
  {
   "cell_type": "markdown",
   "id": "e1ddbd46",
   "metadata": {},
   "source": [
    "## Fizzbuzz\n",
    "While counting from 1 to 100:\n",
    "<br>If the number is a multiple of 3, you should say \"fizz\".\n",
    "<br>If the number is a multiple of 5, you should say \"buzz\".\n",
    "<br>If the number is a multiple of both 3 and 5, you should say \"fizzbuzz\".\n",
    "<br>Otherwise, you should say the number.\n"
   ]
  },
  {
   "cell_type": "markdown",
   "id": "d7d1b6c6",
   "metadata": {},
   "source": [
    "### Counting \n",
    "Let's break down the problem of fizzbuzz!\n",
    "<br>First, can you code out a program that counts from 1 to 100?\n",
    "<br>Is there anything we learned recently that can help you do so? What sort of variables and processes do you need to include?"
   ]
  },
  {
   "cell_type": "code",
   "execution_count": null,
   "id": "3822f5b1",
   "metadata": {},
   "outputs": [],
   "source": [
    "# Write your code here!"
   ]
  },
  {
   "cell_type": "markdown",
   "id": "88bd5dce",
   "metadata": {},
   "source": [
    "### For Loops\n",
    "Repeats the indented code for a specified number of times\n",
    " "
   ]
  },
  {
   "cell_type": "markdown",
   "id": "8a610440",
   "metadata": {},
   "source": [
    "#### for i in range(x)\n",
    "The code below outputs \"Hello\" for x number of times. Modify the value of the variable, x, to see how the code changes.\n",
    "<br>This shows that the code indented is repeated "
   ]
  },
  {
   "cell_type": "code",
   "execution_count": null,
   "id": "a378294d",
   "metadata": {},
   "outputs": [],
   "source": [
    "x = 3\n",
    "for i in range(x): \n",
    "    print(\"Hello\")"
   ]
  },
  {
   "cell_type": "markdown",
   "id": "d2f798c1",
   "metadata": {},
   "source": [
    "#### for i in range(start, end)\n",
    "What do you think the code below does?\n",
    "<br>The code outputs the value of i x times starting from 0 to x-1. Where the first value of i is the \"start\" and the last value of i is the \"end\" minus 1 "
   ]
  },
  {
   "cell_type": "code",
   "execution_count": 11,
   "id": "f80fb856",
   "metadata": {},
   "outputs": [
    {
     "name": "stdout",
     "output_type": "stream",
     "text": [
      "0\n",
      "1\n",
      "2\n"
     ]
    }
   ],
   "source": [
    "for i in range(0, 3):\n",
    "    print(i)"
   ]
  }
 ],
 "metadata": {
  "kernelspec": {
   "display_name": "Python 3 (ipykernel)",
   "language": "python",
   "name": "python3"
  },
  "language_info": {
   "codemirror_mode": {
    "name": "ipython",
    "version": 3
   },
   "file_extension": ".py",
   "mimetype": "text/x-python",
   "name": "python",
   "nbconvert_exporter": "python",
   "pygments_lexer": "ipython3",
   "version": "3.12.3"
  }
 },
 "nbformat": 4,
 "nbformat_minor": 5
}
