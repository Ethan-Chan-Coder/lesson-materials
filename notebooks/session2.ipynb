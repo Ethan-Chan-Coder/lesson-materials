{
 "cells": [
  {
   "cell_type": "markdown",
   "id": "eab38c55-ca00-4fa3-97be-819d496c6781",
   "metadata": {},
   "source": [
    "# Art of Code (session 2)\n",
    "\n",
    "Welcome to session 2! ..."
   ]
  },
  {
   "cell_type": "markdown",
   "id": "29953845-0ab8-4201-84f2-6e3f62c188ee",
   "metadata": {},
   "source": [
    "## Login system\n",
    "\n",
    "Complete this simple login system. It should ask the user to enter the password, and ask again if the password that the user entered was wrong. But stop asking for passwords after 5 failed attempts, or else any malicious user could guess the password by trying every possible combination..."
   ]
  },
  {
   "cell_type": "code",
   "execution_count": 1,
   "id": "b9252b41-101a-4f8c-a1d1-50a1c7dd227b",
   "metadata": {},
   "outputs": [],
   "source": [
    "# Here's the correct password - check that the\n",
    "# user's password attempt is the same as this!\n",
    "correct_password = \"supersecurepassword123\"\n",
    "\n",
    "# Write your code below me!\n",
    "entered_password = input(\"Enter your password: \")\n",
    "num_attempts = 1\n",
    "\n",
    "while entered_password != correct_password and num_attempts < 5:\n",
    "    print(\"Incorrect password\") \n",
    "    entered_password = input(\"Enter your password again: \")\n",
    "    num_attempts = num_attempts + 1\n",
    "\n",
    "if entered_password == correct_password:\n",
    "    print(\"You've been logged in successfully\")\n",
    "else:\n",
    "    print(\"Too many attempts, try again later\")"
   ]
  },
  {
   "cell_type": "markdown",
   "id": "94ba3d63-3358-4fcf-b3d0-69f98e4a4226",
   "metadata": {},
   "source": [
    "## Guess-the-number game\n",
    "\n",
    "This program will choose a random number, then let the user guess it. The program will tell the user if the guess is too high, too low, or correct. If the answer isn't correct, the program will keep letting the user guess, until the user guesses correctly!"
   ]
  },
  {
   "cell_type": "code",
   "execution_count": 2,
   "id": "398cdae8-1f11-4d55-afa7-24c24fb4e361",
   "metadata": {},
   "outputs": [],
   "source": [
    "import random\n",
    "\n",
    "# This sets the \"answer\" variable to a random number between 1 and 100\n",
    "answer = random.randint(1, 100)\n",
    "\n",
    "# Write your code below me!\n",
    "guess = int(input(\"Enter your guess: \"))\n",
    "\n",
    "while answer != guess:\n",
    "    if guess > answer:\n",
    "        print(\"That's too high\")\n",
    "    else:\n",
    "        print(\"That's too low\")\n",
    "\n",
    "    guess = int(input(\"Enter another guess: \"))\n",
    "\n",
    "print(\"That's correct!\")"
   ]
  },
  {
   "cell_type": "markdown",
   "id": "e1ddbd46",
   "metadata": {},
   "source": [
    "## Fizzbuzz\n",
    "While counting from 1 to 100:\n",
    "<br>If the number is a multiple of 3, you should say \"fizz\".\n",
    "<br>If the number is a multiple of 5, you should say \"buzz\".\n",
    "<br>If the number is a multiple of both 3 and 5, you should say \"fizzbuzz\".\n",
    "<br>Otherwise, you should say the number.\n"
   ]
  },
  {
   "cell_type": "markdown",
   "id": "d7d1b6c6",
   "metadata": {},
   "source": [
    "### Counting \n",
    "Let's break down the problem of fizzbuzz!\n",
    "<br>First, can you code out a program that counts from 1 to 100?\n",
    "<br>Is there anything we learned recently that can help you do so? What sort of variables and processes do you need to include?"
   ]
  },
  {
   "cell_type": "code",
   "execution_count": null,
   "id": "3822f5b1",
   "metadata": {},
   "outputs": [],
   "source": [
    "# Write your code here!"
   ]
  },
  {
   "cell_type": "markdown",
   "id": "88bd5dce",
   "metadata": {},
   "source": [
    "### For Loops\n",
    "Other than while loops we also have for loops.\n",
    "<br>For loops repeat the indented code for a specified number of times\n",
    " "
   ]
  },
  {
   "cell_type": "markdown",
   "id": "d2f798c1",
   "metadata": {},
   "source": [
    "#### for i in range(start, end)\n",
    "What do you think the code below does?\n",
    "<br>The code outputs the value of i x times starting from 0 to x-1. Where the first value of i is the \"start\" and the last value of i is the \"end\" minus 1 "
   ]
  },
  {
   "cell_type": "code",
   "execution_count": 11,
   "id": "f80fb856",
   "metadata": {},
   "outputs": [
    {
     "name": "stdout",
     "output_type": "stream",
     "text": [
      "0\n",
      "1\n",
      "2\n"
     ]
    }
   ],
   "source": [
    "for i in range(0, 3):\n",
    "    print(i)"
   ]
  },
  {
   "cell_type": "markdown",
   "id": "8a610440",
   "metadata": {},
   "source": [
    "The default starting value is 0. This means that if we intend to have a start value of 0, we can simplify our code by only specifying the end value."
   ]
  },
  {
   "cell_type": "code",
   "execution_count": null,
   "id": "a378294d",
   "metadata": {},
   "outputs": [],
   "source": [
    "for i in range(3): \n",
    "    print(i)"
   ]
  },
  {
   "cell_type": "markdown",
   "id": "465d08d7",
   "metadata": {},
   "source": [
    "But what happens if we want to print a different range of numbers like 1 to 5? We can simply modify the start and end values to do so."
   ]
  },
  {
   "cell_type": "code",
   "execution_count": 13,
   "id": "c868b015",
   "metadata": {},
   "outputs": [
    {
     "name": "stdout",
     "output_type": "stream",
     "text": [
      "1\n",
      "2\n",
      "3\n",
      "4\n",
      "5\n"
     ]
    }
   ],
   "source": [
    "start = 1\n",
    "end = 6\n",
    "for i in range(start, end):\n",
    "    print(i)"
   ]
  },
  {
   "cell_type": "markdown",
   "id": "7ba1b4d2",
   "metadata": {},
   "source": [
    "### Fizzbuzz Program\n",
    "Now that you've learnt about for loops and fizzbuzz, can you modify your code from \"Counting\" into a \"Fizzbuzz\" program?\n"
   ]
  },
  {
   "cell_type": "code",
   "execution_count": null,
   "id": "d4275590",
   "metadata": {},
   "outputs": [],
   "source": [
    "# Write your code here!"
   ]
  },
  {
   "cell_type": "markdown",
   "id": "daf7d146",
   "metadata": {},
   "source": [
    "## Scissors Paper Stone\n",
    "Code a program that allows the user to play scissors-paper-stone. \n",
    "<br>The program should:\n",
    "<br>1. Use a for loop\n",
    "<br>2. Ask for the user’s choice\n",
    "<br>3. Generate the opponent’s choice\n",
    "<br>4. Output the result of the match\n"
   ]
  },
  {
   "cell_type": "code",
   "execution_count": null,
   "id": "7d4d4982",
   "metadata": {},
   "outputs": [],
   "source": [
    "# Write your code here"
   ]
  }
 ],
 "metadata": {
  "kernelspec": {
   "display_name": "Python 3 (ipykernel)",
   "language": "python",
   "name": "python3"
  },
  "language_info": {
   "codemirror_mode": {
    "name": "ipython",
    "version": 3
   },
   "file_extension": ".py",
   "mimetype": "text/x-python",
   "name": "python",
   "nbconvert_exporter": "python",
   "pygments_lexer": "ipython3",
   "version": "3.12.3"
  }
 },
 "nbformat": 4,
 "nbformat_minor": 5
}
