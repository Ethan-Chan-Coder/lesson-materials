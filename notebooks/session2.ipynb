{
 "cells": [
  {
   "cell_type": "markdown",
   "id": "eab38c55-ca00-4fa3-97be-819d496c6781",
   "metadata": {},
   "source": [
    "# Art of Code (session 2)\n",
    "\n",
    "Welcome to session 2! ..."
   ]
  },
  {
   "cell_type": "markdown",
   "id": "29953845-0ab8-4201-84f2-6e3f62c188ee",
   "metadata": {},
   "source": [
    "## Login system\n",
    "\n",
    "Complete this simple login system. It should ask the user to enter the password, and ask again if the password that the user entered was wrong. But stop asking for passwords after 5 failed attempts, or else any malicious user could guess the password by trying every possible combination..."
   ]
  },
  {
   "cell_type": "code",
   "execution_count": null,
   "id": "b9252b41-101a-4f8c-a1d1-50a1c7dd227b",
   "metadata": {},
   "outputs": [],
   "source": [
    "# Here's the correct password - check that the\n",
    "# user's password attempt is the same as this!\n",
    "password = \"supersecurepassword123\"\n",
    "\n",
    "# Write your code below me!\n"
   ]
  },
  {
   "cell_type": "markdown",
   "id": "94ba3d63-3358-4fcf-b3d0-69f98e4a4226",
   "metadata": {},
   "source": [
    "## Guess-the-number game\n",
    "\n",
    "This program will choose a random number, then let the user guess it. The program will tell the user if the guess is too high, too low, or correct. If the answer isn't correct, the program will keep letting the user guess, until the user guesses correctly!"
   ]
  },
  {
   "cell_type": "code",
   "execution_count": null,
   "id": "398cdae8-1f11-4d55-afa7-24c24fb4e361",
   "metadata": {},
   "outputs": [],
   "source": [
    "import random\n",
    "\n",
    "# This sets the \"answer\" variable to a random number between 1 and 100\n",
    "answer = random.randint(1, 100)\n",
    "\n",
    "# Write your code below me!\n"
   ]
  },
  {
   "cell_type": "code",
   "execution_count": null,
   "id": "dfa1a425-cf00-4e18-983a-74492d76ff62",
   "metadata": {},
   "outputs": [],
   "source": []
  }
 ],
 "metadata": {
  "kernelspec": {
   "display_name": "Python 3 (ipykernel)",
   "language": "python",
   "name": "python3"
  },
  "language_info": {
   "codemirror_mode": {
    "name": "ipython",
    "version": 3
   },
   "file_extension": ".py",
   "mimetype": "text/x-python",
   "name": "python",
   "nbconvert_exporter": "python",
   "pygments_lexer": "ipython3",
   "version": "3.12.2"
  }
 },
 "nbformat": 4,
 "nbformat_minor": 5
}
