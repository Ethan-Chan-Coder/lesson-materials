{
 "cells": [
  {
   "cell_type": "code",
   "execution_count": null,
   "id": "b9252b41-101a-4f8c-a1d1-50a1c7dd227b",
   "metadata": {},
   "outputs": [],
   "source": []
  }
 ],
 "metadata": {
  "kernelspec": {
   "display_name": "",
   "name": ""
  },
  "language_info": {
   "name": ""
  }
 },
 "nbformat": 4,
 "nbformat_minor": 5
}
