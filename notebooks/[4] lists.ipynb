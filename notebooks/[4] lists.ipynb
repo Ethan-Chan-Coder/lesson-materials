{
 "cells": [
  {
   "cell_type": "markdown",
   "id": "0a9aa6bd-cb53-41f7-bf29-71ec5d22d97f",
   "metadata": {},
   "source": [
    "# Lists\n",
    "\n",
    "**Table of contents**\n",
    "1. Indexing\n",
    "2. Iteration\n",
    "3. Basic to-do list\n",
    "4. Caesar cipher\n",
    "5. Appending and popping\n",
    "6. Improved to-do list"
   ]
  },
  {
   "cell_type": "markdown",
   "id": "6dab78ac-4d3a-4aa7-adda-56715787afbf",
   "metadata": {},
   "source": [
    "## 1. Indexing\n",
    "\n",
    "We can refer to a specific element of a list with `[ ]` syntax."
   ]
  },
  {
   "cell_type": "code",
   "execution_count": null,
   "id": "a4fe75ca-5bdd-4747-9a83-d5c43cd0b7a4",
   "metadata": {},
   "outputs": [],
   "source": [
    "fruits = [\"apple\", \"banana\", \"cherry\"]\n",
    "\n",
    "# FIX THE BUG HERE to make the output \"apple\" instead of \"banana\"\n",
    "print(f\"The first fruit in my list is {fruits[1]}\")\n",
    "\n",
    "# WRITE YOUR CODE BELOW to:\n",
    "#   1. Change the first element from \"apple\" to \"avocado\"\n",
    "#   2. Print the updated list\n"
   ]
  },
  {
   "cell_type": "markdown",
   "id": "4abddce6-efcf-4fcf-bcb8-71c4a56f6de5",
   "metadata": {},
   "source": [
    "Lists can store any data type, such as strings, floats, and integers."
   ]
  },
  {
   "cell_type": "code",
   "execution_count": null,
   "id": "24f9c42a-7536-4787-83ee-b05c926b2eea",
   "metadata": {},
   "outputs": [],
   "source": [
    "prime_numbers = [2, 3, 5, 7, 11]\n",
    "print(f\"The third prime number is {prime_numbers[2]}\")\n",
    "\n",
    "coin_denominations = [0.05, 0.10, 0.20, 0.50, 1.00]\n",
    "print(f\"The smallest coin denomination is ${coin_denominations[0]}\")"
   ]
  },
  {
   "cell_type": "markdown",
   "id": "db37ff6f-3f8b-4dca-bdb7-73a887b5ed15",
   "metadata": {},
   "source": [
    "In some ways, strings can be treated as lists of characters. Run the code below, and change it to make the output \"I keep my cookies in a jar\"."
   ]
  },
  {
   "cell_type": "code",
   "execution_count": null,
   "id": "cbf35f69-aded-47b1-a9c9-ca574318ffa5",
   "metadata": {},
   "outputs": [],
   "source": [
    "alphabet = \"abcdefghijklmnopqrstuvwxyz\"\n",
    "# CHANGE THE INDEX BELOW to announce that you keep your cookies in a jar 🫙\n",
    "starting_letter = alphabet[2]\n",
    "\n",
    "print(f\"I keep my cookies in a {starting_letter}ar\")"
   ]
  },
  {
   "cell_type": "markdown",
   "id": "8132108b-63cb-4739-8b1d-b256f15a7fa8",
   "metadata": {},
   "source": [
    "## 2. Iteration\n",
    "\n",
    "We can use `for` loops to run a piece of code for each element in a list. In technical terms, we're *iterating* through the list."
   ]
  },
  {
   "cell_type": "code",
   "execution_count": null,
   "id": "e261e648-dcc4-4169-83d2-e79217e84bd3",
   "metadata": {},
   "outputs": [],
   "source": [
    "names = [\"Anastasia\", \"Bobby\", \"Cayden\"]\n",
    "\n",
    "for n in names:\n",
    "    print(f\"Hi, {n}!\")"
   ]
  },
  {
   "cell_type": "markdown",
   "id": "a3f418aa-950b-498c-aa3a-7df1477869f6",
   "metadata": {},
   "source": [
    "We can also use `for` loops to iterate through strings."
   ]
  },
  {
   "cell_type": "code",
   "execution_count": null,
   "id": "9cc1bd05-496a-4ed6-a1e7-9e9b256169dd",
   "metadata": {},
   "outputs": [],
   "source": [
    "greeting = \"Hello!\"\n",
    "\n",
    "for character in greeting:\n",
    "    print(character)"
   ]
  },
  {
   "attachments": {},
   "cell_type": "markdown",
   "id": "bc54676c-c82d-4a74-853e-c5502d6578d5",
   "metadata": {},
   "source": [
    "In the code cell below, output all the elements of `things_to_buy` in the form of a numbered list.\\\n",
    "The output should look something like this:\n",
    "```text\n",
    "I have 3 things I need to buy:\n",
    "1. pen\n",
    "2. eraser\n",
    "3. pencil\n",
    "```\n",
    "\n",
    "<details>\n",
    "    <summary><strong>Hint</strong></summary>\n",
    "    Think about how you can make use of the iteration variable (<code>i</code>). It can be used to calculate the number at<br/>\n",
    "    the start of the output line (e.g. <code>i + 1</code>). It can also be used as an index to refer to an element in the list.\n",
    "</details>\n"
   ]
  },
  {
   "cell_type": "code",
   "execution_count": null,
   "id": "b77131bd-44d0-4372-aaa2-4071a2a3a815",
   "metadata": {},
   "outputs": [],
   "source": [
    "things_to_buy = [\"pen\", \"eraser\", \"pencil\"]  # Try adding more things to buy...\n",
    "\n",
    "# How can we make this loop work regardless of the\n",
    "# length of the list (without editing the loop code)?\n",
    "for i in range(3):\n",
    "    # CHANGE THE CODE BELOW to output the number and the thing to buy\n",
    "    print()"
   ]
  },
  {
   "cell_type": "markdown",
   "id": "7dc6987d-1f44-4b71-ae73-ec6b9e917281",
   "metadata": {},
   "source": [
    "## 3. Basic to-do list\n",
    "Based on the previous activity, write a to-do list program (where you can only modify existing to-dos)."
   ]
  },
  {
   "cell_type": "code",
   "execution_count": null,
   "id": "c5a287e3-129c-4efd-a893-0526c96d7de3",
   "metadata": {},
   "outputs": [],
   "source": [
    "# REPLACE ME with your to-do list code"
   ]
  },
  {
   "cell_type": "markdown",
   "id": "bc2bcd7e-11a6-4e01-a996-c43bc4a13cb0",
   "metadata": {},
   "source": [
    "## 4. Caesar cipher"
   ]
  },
  {
   "cell_type": "markdown",
   "id": "414c7192-5b3e-44e7-8563-349d32428d14",
   "metadata": {},
   "source": [
    "Write your caesar cipher program in the code cell below."
   ]
  },
  {
   "cell_type": "code",
   "execution_count": null,
   "id": "6e22d782-e4fb-4ade-8be1-1f75988afb49",
   "metadata": {},
   "outputs": [],
   "source": [
    "alphabet = ['a', 'b', 'c', 'd', 'e', 'f', 'g', 'h', 'i', 'j', 'k', 'l', 'm', 'n', 'o', 'p', 'q', 'r', 's', 't', 'u', 'v', 'w', 'x', 'y', 'z']\n",
    "plaintext = input(\"What text would you like to encrypt using the caesar cipher?\")\n",
    "shift = int(input(\"What is the value for the shift for this operation?\"))\n",
    "ciphertext = \"\"\n",
    "\n",
    "# REPLACE ME with your caesar cipher code"
   ]
  },
  {
   "cell_type": "markdown",
   "id": "e226a1f1-611c-4458-b95b-7f6cf9ae950a",
   "metadata": {},
   "source": [
    "## 5. Appending and popping\n",
    "The code below appends `8` to the `even_numbers` list. Add a line of code to append `10` too."
   ]
  },
  {
   "cell_type": "code",
   "execution_count": null,
   "id": "ee939f21-325e-475c-b6e5-604f43086866",
   "metadata": {},
   "outputs": [],
   "source": [
    "even_numbers = [0, 2, 4, 6]\n",
    "even_numbers.append(8)\n",
    "# REPLACE ME with some code to append 10 to even_numbers\n",
    "print(even_numbers)"
   ]
  },
  {
   "cell_type": "markdown",
   "id": "79add3ce-8bbd-4cd2-8b99-19dcbaea2450",
   "metadata": {},
   "source": [
    "The code below pops `6` from the `even_numbers` list. Change the code to pop the `10` from the list instead."
   ]
  },
  {
   "cell_type": "code",
   "execution_count": null,
   "id": "d7f7a370-f5d2-4cad-88e9-829efc94d9f1",
   "metadata": {},
   "outputs": [],
   "source": [
    "even_numbers = [0, 2, 4, 6, 8, 10]\n",
    "even_numbers.pop(2)  # CHANGE THIS to pop the element 10 from the list instead\n",
    "print(even_numbers)"
   ]
  },
  {
   "cell_type": "markdown",
   "id": "794d2d9e-2fe8-4e4b-b253-47a5e81a2385",
   "metadata": {},
   "source": [
    "## 6. Improved to-do list\n",
    "Improve the to-do list program from **3. To-do list** by letting the user add as many to-dos as they want."
   ]
  },
  {
   "cell_type": "code",
   "execution_count": null,
   "id": "528ad340-16f8-421c-aa4d-a26f74dcc363",
   "metadata": {},
   "outputs": [],
   "source": [
    "# REPLACE ME with your improved to-do list code"
   ]
  },
  {
   "cell_type": "markdown",
   "id": "a7ebcdf2-ec7c-4810-ae4f-94162400aa2d",
   "metadata": {},
   "source": [
    "\\\n",
    "\\\n",
    "Download the next lesson notebook (*Wordle*) **[here](https://github.com/artofcode-sg/lesson-materials/blob/main/notebooks/%5B5%5D%20wordle.ipynb)**!"
   ]
  }
 ],
 "metadata": {
  "kernelspec": {
   "display_name": "Python 3 (ipykernel)",
   "language": "python",
   "name": "python3"
  },
  "language_info": {
   "codemirror_mode": {
    "name": "ipython",
    "version": 3
   },
   "file_extension": ".py",
   "mimetype": "text/x-python",
   "name": "python",
   "nbconvert_exporter": "python",
   "pygments_lexer": "ipython3",
   "version": "3.12.3"
  }
 },
 "nbformat": 4,
 "nbformat_minor": 5
}
