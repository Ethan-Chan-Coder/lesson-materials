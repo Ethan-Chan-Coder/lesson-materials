{
 "cells": [
  {
   "cell_type": "markdown",
   "id": "094d4167",
   "metadata": {},
   "source": [
    "# For Loops"
   ]
  },
  {
   "cell_type": "markdown",
   "id": "da675e8f",
   "metadata": {},
   "source": [
    "### **Solution for Scissor Paper Stone**"
   ]
  },
  {
   "cell_type": "code",
   "execution_count": null,
   "id": "eb63a38b-c49e-42e9-ab60-e02bb5751d60",
   "metadata": {},
   "outputs": [],
   "source": [
    "import random\n",
    "\n",
    "your_Choice = int(input(\"Enter your choice [1] for Scissors [2] for Paper [3] for Stone: \"))\n",
    "opponent_Choice = random.randint(1,3)\n",
    "if opponent_Choice == 1:\n",
    "    print(\"Your opponent chose scissors\")\n",
    "elif opponent_Choice == 2:\n",
    "    print(\"Your opponent chose paper\")\n",
    "else:\n",
    "    print(\"Your opponent chose stone\")\n",
    "if your_Choice == opponent_Choice:\n",
    "    print(\"It's a tie!\")\n",
    "elif your_Choice == 1 and opponent_Choice == 2:\n",
    "    print(\"You Win!\")\n",
    "elif your_Choice == 2 and opponent_Choice == 3:\n",
    "    print(\"You Win!\")\n",
    "elif your_Choice == 3 and opponent_Choice == 1:\n",
    "    print(\"You Win!\")\n",
    "else:\n",
    "    print(\"You Lose\")"
   ]
  },
  {
   "cell_type": "code",
   "execution_count": null,
   "id": "be9bf5cc",
   "metadata": {},
   "outputs": [],
   "source": [
    "\n",
    "import random\n",
    "\n",
    "for i in range(3):\n",
    "    your_Choice = int(input(\"Enter your choice [1] for Scissors [2] for Paper [3] for Stone: \"))\n",
    "    opponent_Choice = random.randint(1,3)\n",
    "    if opponent_Choice == 1:\n",
    "        print(\"Your opponent chose scissors\")\n",
    "    elif opponent_Choice == 2:\n",
    "        print(\"Your opponent chose paper\")\n",
    "    else:\n",
    "        print(\"Your opponent chose stone\")\n",
    "    if your_Choice == opponent_Choice:\n",
    "        print(\"It's a tie!\")\n",
    "    elif your_Choice == 1 and opponent_Choice == 2:\n",
    "        print(\"You Win!\")\n",
    "    elif your_Choice == 2 and opponent_Choice == 3:\n",
    "        print(\"You Win!\")\n",
    "    elif your_Choice == 3 and opponent_Choice == 1:\n",
    "        print(\"You Win!\")\n",
    "    else:\n",
    "        print(\"You Lose\")"
   ]
  }
 ],
 "metadata": {
  "kernelspec": {
   "display_name": "Python 3",
   "language": "python",
   "name": "python3"
  },
  "language_info": {
   "codemirror_mode": {
    "name": "ipython",
    "version": 3
   },
   "file_extension": ".py",
   "mimetype": "text/x-python",
   "name": "python",
   "nbconvert_exporter": "python",
   "pygments_lexer": "ipython3",
   "version": "3.12.3"
  }
 },
 "nbformat": 4,
 "nbformat_minor": 5
}
