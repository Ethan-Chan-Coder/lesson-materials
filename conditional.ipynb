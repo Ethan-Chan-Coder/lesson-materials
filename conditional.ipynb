{
 "cells": [
  {
   "cell_type": "markdown",
   "id": "a27954de-37a1-4da3-9fae-e6a2d034c432",
   "metadata": {},
   "source": [
    "# Conditionals\n",
    "\n",
    "An if statement is a programming construct that allows you to control the flow of your code based on certain boundaries. \n",
    "\n",
    "It evaluates whether a given condition is true or false and executes a block of code only if the condition is true. "
   ]
  },
  {
   "cell_type": "markdown",
   "id": "019c9579-e71e-4447-9d84-650b02ddb39c",
   "metadata": {},
   "source": [
    "## If statements\n",
    "There are two portions to it: a condition and an action\n",
    "\n",
    "Note that after the if statement, the \"action\" code is indented. "
   ]
  },
  {
   "cell_type": "code",
   "execution_count": 2,
   "id": "a19392a2-33a8-49e8-b7e0-369ac89556ba",
   "metadata": {},
   "outputs": [
    {
     "name": "stdout",
     "output_type": "stream",
     "text": [
      "3 is more than 2\n"
     ]
    }
   ],
   "source": [
    "if 3 > 2:\n",
    "    print(\"3 is more than 2\")"
   ]
  },
  {
   "cell_type": "markdown",
   "id": "c0c0390a-a501-40e0-aa40-08e6c934432e",
   "metadata": {},
   "source": [
    "## Comparison Operators\n",
    "\n",
    "\n",
    "<table>\n",
    "  <tr>\n",
    "    <th>Math</th>\n",
    "    <th>Explanation</th>\n",
    "    <th>Python</th>\n",
    "  </tr>\n",
    "  <tr>\n",
    "    <td>a = b</td>\n",
    "    <td>a is equal to b (e.g. 1 = 1)</td>\n",
    "    <td>==</td>\n",
    "  </tr>\n",
    "  <tr>\n",
    "    <td>a > b</td>\n",
    "    <td>a is greater than b (e.g. 2 > 1)</td>\n",
    "    <td>&gt;</td>\n",
    "  </tr>\n",
    "  <tr>\n",
    "    <td>a < b</td>\n",
    "    <td>a is smaller than b (e.g. 1 < 10)</td>\n",
    "    <td>&lt;</td>\n",
    "  </tr>\n",
    "  <tr>\n",
    "    <td>a ≤ b</td>\n",
    "    <td>a is greater than or equal to b (e.g. 20 ≥ 5, 3 ≥ 3)</td>\n",
    "    <td>&gt;=</td>\n",
    "  </tr>\n",
    "  <tr>\n",
    "    <td>a ≤ b</td>\n",
    "    <td>a is smaller than or equal to b (e.g. 10 ≤ 100, 1 ≤ 1)</td>\n",
    "    <td>&lt;=</td>\n",
    "  </tr>\n",
    "  <tr>\n",
    "    <td>a ≠ b</td>\n",
    "    <td>a is not equal to b (e.g. 10 ≠ 100, 2 ≠ 1)</td>\n",
    "    <td>!=</td>\n",
    "  </tr>\n",
    "</table>"
   ]
  },
  {
   "cell_type": "markdown",
   "id": "37e8043f-2639-47ed-bf60-cf77b321e792",
   "metadata": {},
   "source": [
    "Here is a sample code that utilises of if-statements, try changing the variable `age` to see how the program behaves differently."
   ]
  },
  {
   "cell_type": "code",
   "execution_count": 3,
   "id": "9b9c6bd6-fa52-4d43-858d-7247d7f58b77",
   "metadata": {},
   "outputs": [
    {
     "name": "stdout",
     "output_type": "stream",
     "text": [
      "Discounted Price\n"
     ]
    }
   ],
   "source": [
    "age = 16 # Change me! Notice how 18 and above doesnt print anything.\n",
    "if age <= 18:\n",
    "\tprint(\"Discounted Price\")"
   ]
  },
  {
   "cell_type": "markdown",
   "id": "f84afe39-82c4-4c86-88a5-f81f3e2b2f39",
   "metadata": {},
   "source": [
    "What if we want the user to input the number? What do we need to do?\n",
    "<details>\n",
    "    <summary>Hint</summary>\n",
    "    Refer back to Chapter 2: IO Variables and Arithmetics\n",
    "</details>"
   ]
  },
  {
   "cell_type": "code",
   "execution_count": null,
   "id": "5f9f8a86-430a-44e0-acc7-7807bbc3bd5d",
   "metadata": {},
   "outputs": [],
   "source": [
    "age = 16 # Change me so that users can input their own age!\n",
    "if age <= 18:\n",
    "\tprint(\"Discounted Price\")"
   ]
  },
  {
   "cell_type": "markdown",
   "id": "ae4da238-a272-48a5-a22c-4e43677589d2",
   "metadata": {},
   "source": [
    "Note that the \"action\" of the if statement has to be indented or else it does not work."
   ]
  },
  {
   "cell_type": "code",
   "execution_count": null,
   "id": "24bf0d03-c2aa-4858-a04c-e5389d19c217",
   "metadata": {},
   "outputs": [],
   "source": [
    "age = int(input(\"What is your age: \"))\n",
    "if age <= 18:\n",
    "print(\"Discounted Price\") # Why do I not work?"
   ]
  },
  {
   "cell_type": "markdown",
   "id": "44af07fc-dd4d-46d2-a9c5-df9cc6b08e5f",
   "metadata": {},
   "source": [
    "What if I want to print \"Regular Price\" For someone whose age is above 18? "
   ]
  },
  {
   "cell_type": "code",
   "execution_count": null,
   "id": "5149d27b-e081-4cc5-9f2e-251e1e13f520",
   "metadata": {},
   "outputs": [],
   "source": [
    "age = int(input(\"What is your age: \"))\n",
    "if age <= 18:\n",
    "\tprint(\"Discounted Price\")\n",
    "# Try typing your else statement here!"
   ]
  },
  {
   "cell_type": "markdown",
   "id": "84efdf4b-81d7-45c2-ab49-728ad895160a",
   "metadata": {},
   "source": [
    "What if I want to have a separate category for the elderly?\n",
    "\n",
    "<details>\n",
    "    <summary>Hint</summary>\n",
    "    The \"no\" branch of the first if else statement represents everyone other than the children; how do we further differentiate it?\n",
    "</details>"
   ]
  },
  {
   "cell_type": "markdown",
   "id": "79a09f5c-a42c-4ea1-8d09-392bf4ab4dea",
   "metadata": {},
   "source": [
    "What if I want to check for two conditions? We can use and/or statements."
   ]
  },
  {
   "cell_type": "code",
   "execution_count": 6,
   "id": "0d55ecd7-ee9a-435b-beb3-c23184e5f50b",
   "metadata": {},
   "outputs": [
    {
     "name": "stdin",
     "output_type": "stream",
     "text": [
      "What is your age:  18\n"
     ]
    },
    {
     "name": "stdout",
     "output_type": "stream",
     "text": [
      "Discounted Price (Student)\n"
     ]
    }
   ],
   "source": [
    "age = int(input(\"What is your age: \"))\n",
    "is_student = \"yes\"\n",
    "if age <= 18 and is_student == \"yes\":\n",
    "\tprint(\"Discounted Price (Student)\")\n",
    "elif age <= 18 and is_student == \"no\":\n",
    "\tprint(\"Discounted Price (Children)\")\n",
    "elif age  >= 65:\n",
    "\tprint(\"Discounted Price (Elderlies)\")\n",
    "else:\n",
    "\tprint(\"Regular Price\")"
   ]
  },
  {
   "cell_type": "markdown",
   "id": "74106b14-dd87-48ab-a49d-5b7681707e1b",
   "metadata": {},
   "source": [
    "Do note that anything outside the if-statement is always executed."
   ]
  },
  {
   "cell_type": "code",
   "execution_count": null,
   "id": "9dacd783-7083-4fd7-8b52-575b051a69b9",
   "metadata": {},
   "outputs": [],
   "source": [
    "age = input(\"What is your age: \")\n",
    "is_student = \"yes\"\n",
    "if age <= 18 and is_student == \"yes\":\n",
    "\tdiscount = 0.3\n",
    "elif age <= 18 and is_student == \"no\":\n",
    "\tdiscount = 0.1\n",
    "elif age  >= 65:\n",
    "\tdiscount = 0.3\n",
    "else:\n",
    "\tdiscount = 0\n",
    "\t\n",
    "final_price = price * (1 - discount) # I am always executed! "
   ]
  },
  {
   "cell_type": "markdown",
   "id": "f30cc082-5820-4063-a0a7-0184e9d0159a",
   "metadata": {},
   "source": [
    "## Excercise 1: BMI calculator\n",
    "Do you remember the BMI calculator you built in the last chapter? Now we will be expanding upon it!\n",
    "\n",
    "Can you code out a BMI calculator that also prints the weight category the user is in after calculating your BMI?"
   ]
  },
  {
   "cell_type": "code",
   "execution_count": null,
   "id": "8324c23a-cb22-43f1-aa83-377c24aababb",
   "metadata": {},
   "outputs": [],
   "source": [
    "# Write your code here!"
   ]
  },
  {
   "cell_type": "markdown",
   "id": "eef13ffd-69f1-4361-8771-3214528c7110",
   "metadata": {},
   "source": [
    "## Excercise 2: Recess Schedule\n",
    "Do you remember the recess schedule you created earlier? Can you please code it out?"
   ]
  },
  {
   "cell_type": "code",
   "execution_count": null,
   "id": "29a205fa-7465-4fc2-9221-2d93ba76152a",
   "metadata": {},
   "outputs": [],
   "source": [
    "# Write your code here!"
   ]
  },
  {
   "cell_type": "markdown",
   "id": "6af23e1b-6545-493c-bf37-ee1852201c64",
   "metadata": {},
   "source": [
    "## Homework Activity: Animal classifier\n",
    "Write a program that asks the user a series of questions to classify the animal the user is thinking about into one of these 6 categories:\n",
    "\n",
    "- Mammals\n",
    "- Insects\n",
    "- Birds\n",
    "- Amphibians\n",
    "- Reptiles\n",
    "- Fishes"
   ]
  },
  {
   "cell_type": "code",
   "execution_count": null,
   "id": "44f2cbcf-c1ab-4119-87f7-054fe7ee0eed",
   "metadata": {},
   "outputs": [],
   "source": [
    "# Write your code here!"
   ]
  }
 ],
 "metadata": {
  "kernelspec": {
   "display_name": "Python 3 (ipykernel)",
   "language": "python",
   "name": "python3"
  },
  "language_info": {
   "codemirror_mode": {
    "name": "ipython",
    "version": 3
   },
   "file_extension": ".py",
   "mimetype": "text/x-python",
   "name": "python",
   "nbconvert_exporter": "python",
   "pygments_lexer": "ipython3",
   "version": "3.12.3"
  }
 },
 "nbformat": 4,
 "nbformat_minor": 5
}
